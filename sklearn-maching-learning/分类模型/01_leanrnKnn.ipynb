{
 "cells": [
  {
   "cell_type": "markdown",
   "source": "# K近邻算法\n### k定义有多少个邻居\n### 物以类聚，人以群分\n### 教会计算机根据“邻居”分类，邻居：距离比较近\n### 距离公式：欧式距离\n$$ d=\\sqrt{(x_1-y_1)^2+(x_2-y_2)^2+...+(x_n-y_n)^2}$$\n### 距离越小，越近，$$d\\le10$$规定为邻居\n### 计算--->数学公式--->计算结果",
   "metadata": {
    "tags": [],
    "cell_id": "00000-def712e7-eae2-49c8-b870-e920de9b4ef1",
    "deepnote_cell_type": "markdown"
   }
  },
  {
   "cell_type": "code",
   "metadata": {
    "tags": [],
    "cell_id": "00001-5e29b8da-713f-4b1c-95b0-014972d621b2",
    "deepnote_to_be_reexecuted": false,
    "source_hash": "40dc87a2",
    "execution_start": 1628932934602,
    "execution_millis": 1211,
    "deepnote_cell_type": "code"
   },
   "source": "# knn入门模型使用\nimport numpy as np\nfrom sklearn.neighbors import KNeighborsClassifier\nimport pandas as pd",
   "execution_count": null,
   "outputs": []
  },
  {
   "cell_type": "code",
   "metadata": {
    "tags": [],
    "cell_id": "00002-5857c6c3-1fd4-4423-a8e1-a12de61bd929",
    "deepnote_to_be_reexecuted": false,
    "source_hash": "9d7d0eea",
    "execution_start": 1628933113088,
    "execution_millis": 35,
    "deepnote_cell_type": "code"
   },
   "source": "# 分类，电影类别\n# 动作 武打镜头\n# 爱情 接吻镜头\n# 属性：武打镜头，接吻镜头\n# 量化，数量化，数字化\n# 如果没有安装xlrd，需要先安装xlrd\n# ! pip3 install xlrd==1.2.0\nmovies = pd.read_excel(\"./data/Movies.xlsx\", sheet_name=0)\n\nmovies\n",
   "execution_count": null,
   "outputs": [
    {
     "name": "stderr",
     "text": "/shared-libs/python3.7/py-core/lib/python3.7/site-packages/ipykernel_launcher.py:8: FutureWarning: Your version of xlrd is 1.2.0. In xlrd >= 2.0, only the xls format is supported. As a result, the openpyxl engine will be used if it is installed and the engine argument is not specified. Install openpyxl instead.\n  \n",
     "output_type": "stream"
    },
    {
     "output_type": "execute_result",
     "execution_count": 7,
     "data": {
      "application/vnd.deepnote.dataframe.v2+json": {
       "row_count": 6,
       "column_count": 4,
       "columns": [
        {
         "name": "电影名称",
         "dtype": "object",
         "stats": {
          "unique_count": 6,
          "nan_count": 0,
          "categories": [
           {
            "name": "大话西游",
            "count": 1
           },
           {
            "name": "杀破狼",
            "count": 1
           },
           {
            "name": "4 others",
            "count": 4
           }
          ]
         }
        },
        {
         "name": "武大镜头",
         "dtype": "int64",
         "stats": {
          "unique_count": 6,
          "nan_count": 0,
          "min": "0",
          "max": "59",
          "histogram": [
           {
            "bin_start": 0,
            "bin_end": 5.9,
            "count": 3
           },
           {
            "bin_start": 5.9,
            "bin_end": 11.8,
            "count": 0
           },
           {
            "bin_start": 11.8,
            "bin_end": 17.700000000000003,
            "count": 0
           },
           {
            "bin_start": 17.700000000000003,
            "bin_end": 23.6,
            "count": 0
           },
           {
            "bin_start": 23.6,
            "bin_end": 29.5,
            "count": 0
           },
           {
            "bin_start": 29.5,
            "bin_end": 35.400000000000006,
            "count": 0
           },
           {
            "bin_start": 35.400000000000006,
            "bin_end": 41.300000000000004,
            "count": 1
           },
           {
            "bin_start": 41.300000000000004,
            "bin_end": 47.2,
            "count": 1
           },
           {
            "bin_start": 47.2,
            "bin_end": 53.1,
            "count": 0
           },
           {
            "bin_start": 53.1,
            "bin_end": 59,
            "count": 1
           }
          ]
         }
        },
        {
         "name": "接吻镜头",
         "dtype": "int64",
         "stats": {
          "unique_count": 5,
          "nan_count": 0,
          "min": "1",
          "max": "19",
          "histogram": [
           {
            "bin_start": 1,
            "bin_end": 2.8,
            "count": 3
           },
           {
            "bin_start": 2.8,
            "bin_end": 4.6,
            "count": 0
           },
           {
            "bin_start": 4.6,
            "bin_end": 6.4,
            "count": 0
           },
           {
            "bin_start": 6.4,
            "bin_end": 8.2,
            "count": 0
           },
           {
            "bin_start": 8.2,
            "bin_end": 10,
            "count": 0
           },
           {
            "bin_start": 10,
            "bin_end": 11.8,
            "count": 1
           },
           {
            "bin_start": 11.8,
            "bin_end": 13.6,
            "count": 0
           },
           {
            "bin_start": 13.6,
            "bin_end": 15.4,
            "count": 1
           },
           {
            "bin_start": 15.4,
            "bin_end": 17.2,
            "count": 0
           },
           {
            "bin_start": 17.2,
            "bin_end": 19,
            "count": 1
           }
          ]
         }
        },
        {
         "name": "分类情况",
         "dtype": "object",
         "stats": {
          "unique_count": 2,
          "nan_count": 0,
          "categories": [
           {
            "name": "动作片",
            "count": 3
           },
           {
            "name": "爱情片",
            "count": 3
           }
          ]
         }
        },
        {
         "name": "_deepnote_index_column",
         "dtype": "int64"
        }
       ],
       "rows_top": [
        {
         "电影名称": "大话西游",
         "武大镜头": 36,
         "接吻镜头": 1,
         "分类情况": "动作片",
         "_deepnote_index_column": 0
        },
        {
         "电影名称": "杀破狼",
         "武大镜头": 43,
         "接吻镜头": 2,
         "分类情况": "动作片",
         "_deepnote_index_column": 1
        },
        {
         "电影名称": "前任3",
         "武大镜头": 0,
         "接吻镜头": 10,
         "分类情况": "爱情片",
         "_deepnote_index_column": 2
        },
        {
         "电影名称": "战狼2",
         "武大镜头": 59,
         "接吻镜头": 1,
         "分类情况": "动作片",
         "_deepnote_index_column": 3
        },
        {
         "电影名称": "泰坦尼克号",
         "武大镜头": 1,
         "接吻镜头": 15,
         "分类情况": "爱情片",
         "_deepnote_index_column": 4
        },
        {
         "电影名称": "星语心愿",
         "武大镜头": 2,
         "接吻镜头": 19,
         "分类情况": "爱情片",
         "_deepnote_index_column": 5
        }
       ],
       "rows_bottom": null
      },
      "text/plain": "    电影名称  武大镜头  接吻镜头 分类情况\n0   大话西游    36     1  动作片\n1    杀破狼    43     2  动作片\n2    前任3     0    10  爱情片\n3    战狼2    59     1  动作片\n4  泰坦尼克号     1    15  爱情片\n5   星语心愿     2    19  爱情片",
      "text/html": "<div>\n<style scoped>\n    .dataframe tbody tr th:only-of-type {\n        vertical-align: middle;\n    }\n\n    .dataframe tbody tr th {\n        vertical-align: top;\n    }\n\n    .dataframe thead th {\n        text-align: right;\n    }\n</style>\n<table border=\"1\" class=\"dataframe\">\n  <thead>\n    <tr style=\"text-align: right;\">\n      <th></th>\n      <th>电影名称</th>\n      <th>武大镜头</th>\n      <th>接吻镜头</th>\n      <th>分类情况</th>\n    </tr>\n  </thead>\n  <tbody>\n    <tr>\n      <th>0</th>\n      <td>大话西游</td>\n      <td>36</td>\n      <td>1</td>\n      <td>动作片</td>\n    </tr>\n    <tr>\n      <th>1</th>\n      <td>杀破狼</td>\n      <td>43</td>\n      <td>2</td>\n      <td>动作片</td>\n    </tr>\n    <tr>\n      <th>2</th>\n      <td>前任3</td>\n      <td>0</td>\n      <td>10</td>\n      <td>爱情片</td>\n    </tr>\n    <tr>\n      <th>3</th>\n      <td>战狼2</td>\n      <td>59</td>\n      <td>1</td>\n      <td>动作片</td>\n    </tr>\n    <tr>\n      <th>4</th>\n      <td>泰坦尼克号</td>\n      <td>1</td>\n      <td>15</td>\n      <td>爱情片</td>\n    </tr>\n    <tr>\n      <th>5</th>\n      <td>星语心愿</td>\n      <td>2</td>\n      <td>19</td>\n      <td>爱情片</td>\n    </tr>\n  </tbody>\n</table>\n</div>"
     },
     "metadata": {}
    }
   ]
  },
  {
   "cell_type": "code",
   "metadata": {
    "tags": [],
    "cell_id": "00003-4972eeea-5091-47b2-889b-0b3cc8b37fce",
    "deepnote_to_be_reexecuted": false,
    "source_hash": "5d844eda",
    "execution_start": 1628933286452,
    "execution_millis": 10,
    "deepnote_cell_type": "code"
   },
   "source": "mydata = movies.iloc[:,1:3]\ntarget = movies['分类情况']\ndisplay(mydata,target)",
   "execution_count": null,
   "outputs": [
    {
     "data": {
      "application/vnd.deepnote.dataframe.v2+json": {
       "row_count": 6,
       "column_count": 2,
       "columns": [
        {
         "name": "武大镜头",
         "dtype": "int64",
         "stats": {
          "unique_count": 6,
          "nan_count": 0,
          "min": "0",
          "max": "59",
          "histogram": [
           {
            "bin_start": 0,
            "bin_end": 5.9,
            "count": 3
           },
           {
            "bin_start": 5.9,
            "bin_end": 11.8,
            "count": 0
           },
           {
            "bin_start": 11.8,
            "bin_end": 17.700000000000003,
            "count": 0
           },
           {
            "bin_start": 17.700000000000003,
            "bin_end": 23.6,
            "count": 0
           },
           {
            "bin_start": 23.6,
            "bin_end": 29.5,
            "count": 0
           },
           {
            "bin_start": 29.5,
            "bin_end": 35.400000000000006,
            "count": 0
           },
           {
            "bin_start": 35.400000000000006,
            "bin_end": 41.300000000000004,
            "count": 1
           },
           {
            "bin_start": 41.300000000000004,
            "bin_end": 47.2,
            "count": 1
           },
           {
            "bin_start": 47.2,
            "bin_end": 53.1,
            "count": 0
           },
           {
            "bin_start": 53.1,
            "bin_end": 59,
            "count": 1
           }
          ]
         }
        },
        {
         "name": "接吻镜头",
         "dtype": "int64",
         "stats": {
          "unique_count": 5,
          "nan_count": 0,
          "min": "1",
          "max": "19",
          "histogram": [
           {
            "bin_start": 1,
            "bin_end": 2.8,
            "count": 3
           },
           {
            "bin_start": 2.8,
            "bin_end": 4.6,
            "count": 0
           },
           {
            "bin_start": 4.6,
            "bin_end": 6.4,
            "count": 0
           },
           {
            "bin_start": 6.4,
            "bin_end": 8.2,
            "count": 0
           },
           {
            "bin_start": 8.2,
            "bin_end": 10,
            "count": 0
           },
           {
            "bin_start": 10,
            "bin_end": 11.8,
            "count": 1
           },
           {
            "bin_start": 11.8,
            "bin_end": 13.6,
            "count": 0
           },
           {
            "bin_start": 13.6,
            "bin_end": 15.4,
            "count": 1
           },
           {
            "bin_start": 15.4,
            "bin_end": 17.2,
            "count": 0
           },
           {
            "bin_start": 17.2,
            "bin_end": 19,
            "count": 1
           }
          ]
         }
        },
        {
         "name": "_deepnote_index_column",
         "dtype": "int64"
        }
       ],
       "rows_top": [
        {
         "武大镜头": 36,
         "接吻镜头": 1,
         "_deepnote_index_column": 0
        },
        {
         "武大镜头": 43,
         "接吻镜头": 2,
         "_deepnote_index_column": 1
        },
        {
         "武大镜头": 0,
         "接吻镜头": 10,
         "_deepnote_index_column": 2
        },
        {
         "武大镜头": 59,
         "接吻镜头": 1,
         "_deepnote_index_column": 3
        },
        {
         "武大镜头": 1,
         "接吻镜头": 15,
         "_deepnote_index_column": 4
        },
        {
         "武大镜头": 2,
         "接吻镜头": 19,
         "_deepnote_index_column": 5
        }
       ],
       "rows_bottom": null
      },
      "text/plain": "   武大镜头  接吻镜头\n0    36     1\n1    43     2\n2     0    10\n3    59     1\n4     1    15\n5     2    19",
      "text/html": "<div>\n<style scoped>\n    .dataframe tbody tr th:only-of-type {\n        vertical-align: middle;\n    }\n\n    .dataframe tbody tr th {\n        vertical-align: top;\n    }\n\n    .dataframe thead th {\n        text-align: right;\n    }\n</style>\n<table border=\"1\" class=\"dataframe\">\n  <thead>\n    <tr style=\"text-align: right;\">\n      <th></th>\n      <th>武大镜头</th>\n      <th>接吻镜头</th>\n    </tr>\n  </thead>\n  <tbody>\n    <tr>\n      <th>0</th>\n      <td>36</td>\n      <td>1</td>\n    </tr>\n    <tr>\n      <th>1</th>\n      <td>43</td>\n      <td>2</td>\n    </tr>\n    <tr>\n      <th>2</th>\n      <td>0</td>\n      <td>10</td>\n    </tr>\n    <tr>\n      <th>3</th>\n      <td>59</td>\n      <td>1</td>\n    </tr>\n    <tr>\n      <th>4</th>\n      <td>1</td>\n      <td>15</td>\n    </tr>\n    <tr>\n      <th>5</th>\n      <td>2</td>\n      <td>19</td>\n    </tr>\n  </tbody>\n</table>\n</div>"
     },
     "metadata": {},
     "output_type": "display_data"
    },
    {
     "data": {
      "text/plain": "0    动作片\n1    动作片\n2    爱情片\n3    动作片\n4    爱情片\n5    爱情片\nName: 分类情况, dtype: object"
     },
     "metadata": {},
     "output_type": "display_data"
    }
   ]
  },
  {
   "cell_type": "code",
   "metadata": {
    "tags": [],
    "cell_id": "00004-bc7843be-b96c-42ad-83f9-3c066b62cff6",
    "deepnote_to_be_reexecuted": false,
    "source_hash": "dc452b53",
    "execution_start": 1628933355369,
    "execution_millis": 0,
    "deepnote_cell_type": "code"
   },
   "source": "# 算法，训练\nknn = KNeighborsClassifier(n_neighbors=5) # 设置邻居个数为5",
   "execution_count": null,
   "outputs": []
  },
  {
   "cell_type": "code",
   "metadata": {
    "tags": [],
    "cell_id": "00005-a9dd5390-8c62-4cb5-980e-9a02e4c5d1d0",
    "deepnote_to_be_reexecuted": false,
    "source_hash": "bdf605eb",
    "execution_start": 1628933420150,
    "execution_millis": 6,
    "deepnote_cell_type": "code"
   },
   "source": "# 训练，数据和木编制target有什么样的关系\nknn.fit(mydata,target)",
   "execution_count": null,
   "outputs": [
    {
     "output_type": "execute_result",
     "execution_count": 15,
     "data": {
      "text/plain": "KNeighborsClassifier()"
     },
     "metadata": {}
    }
   ]
  },
  {
   "cell_type": "code",
   "metadata": {
    "tags": [],
    "cell_id": "00006-23db3d30-b3ce-4afd-8b61-b65e4a6a8066",
    "deepnote_to_be_reexecuted": false,
    "source_hash": "8d939b7f",
    "execution_start": 1628933729071,
    "execution_millis": 3,
    "deepnote_cell_type": "code"
   },
   "source": "# 进行预测,应用\n# 碟中谍6 100,3\n# 谍影重重 67,2\n# 前任 1 10\n\nX_test = pd.DataFrame({'武打镜头':[100,67,2],'接吻镜头':[3,2,10]})\nX_test",
   "execution_count": null,
   "outputs": [
    {
     "output_type": "execute_result",
     "execution_count": 28,
     "data": {
      "application/vnd.deepnote.dataframe.v2+json": {
       "row_count": 3,
       "column_count": 2,
       "columns": [
        {
         "name": "武打镜头",
         "dtype": "int64",
         "stats": {
          "unique_count": 3,
          "nan_count": 0,
          "min": "2",
          "max": "100",
          "histogram": [
           {
            "bin_start": 2,
            "bin_end": 11.8,
            "count": 1
           },
           {
            "bin_start": 11.8,
            "bin_end": 21.6,
            "count": 0
           },
           {
            "bin_start": 21.6,
            "bin_end": 31.400000000000002,
            "count": 0
           },
           {
            "bin_start": 31.400000000000002,
            "bin_end": 41.2,
            "count": 0
           },
           {
            "bin_start": 41.2,
            "bin_end": 51,
            "count": 0
           },
           {
            "bin_start": 51,
            "bin_end": 60.800000000000004,
            "count": 0
           },
           {
            "bin_start": 60.800000000000004,
            "bin_end": 70.60000000000001,
            "count": 1
           },
           {
            "bin_start": 70.60000000000001,
            "bin_end": 80.4,
            "count": 0
           },
           {
            "bin_start": 80.4,
            "bin_end": 90.2,
            "count": 0
           },
           {
            "bin_start": 90.2,
            "bin_end": 100,
            "count": 1
           }
          ]
         }
        },
        {
         "name": "接吻镜头",
         "dtype": "int64",
         "stats": {
          "unique_count": 3,
          "nan_count": 0,
          "min": "2",
          "max": "10",
          "histogram": [
           {
            "bin_start": 2,
            "bin_end": 2.8,
            "count": 1
           },
           {
            "bin_start": 2.8,
            "bin_end": 3.6,
            "count": 1
           },
           {
            "bin_start": 3.6,
            "bin_end": 4.4,
            "count": 0
           },
           {
            "bin_start": 4.4,
            "bin_end": 5.2,
            "count": 0
           },
           {
            "bin_start": 5.2,
            "bin_end": 6,
            "count": 0
           },
           {
            "bin_start": 6,
            "bin_end": 6.800000000000001,
            "count": 0
           },
           {
            "bin_start": 6.800000000000001,
            "bin_end": 7.6000000000000005,
            "count": 0
           },
           {
            "bin_start": 7.6000000000000005,
            "bin_end": 8.4,
            "count": 0
           },
           {
            "bin_start": 8.4,
            "bin_end": 9.2,
            "count": 0
           },
           {
            "bin_start": 9.2,
            "bin_end": 10,
            "count": 1
           }
          ]
         }
        },
        {
         "name": "_deepnote_index_column",
         "dtype": "int64"
        }
       ],
       "rows_top": [
        {
         "武打镜头": 100,
         "接吻镜头": 3,
         "_deepnote_index_column": 0
        },
        {
         "武打镜头": 67,
         "接吻镜头": 2,
         "_deepnote_index_column": 1
        },
        {
         "武打镜头": 2,
         "接吻镜头": 10,
         "_deepnote_index_column": 2
        }
       ],
       "rows_bottom": null
      },
      "text/plain": "   武打镜头  接吻镜头\n0   100     3\n1    67     2\n2     2    10",
      "text/html": "<div>\n<style scoped>\n    .dataframe tbody tr th:only-of-type {\n        vertical-align: middle;\n    }\n\n    .dataframe tbody tr th {\n        vertical-align: top;\n    }\n\n    .dataframe thead th {\n        text-align: right;\n    }\n</style>\n<table border=\"1\" class=\"dataframe\">\n  <thead>\n    <tr style=\"text-align: right;\">\n      <th></th>\n      <th>武打镜头</th>\n      <th>接吻镜头</th>\n    </tr>\n  </thead>\n  <tbody>\n    <tr>\n      <th>0</th>\n      <td>100</td>\n      <td>3</td>\n    </tr>\n    <tr>\n      <th>1</th>\n      <td>67</td>\n      <td>2</td>\n    </tr>\n    <tr>\n      <th>2</th>\n      <td>2</td>\n      <td>10</td>\n    </tr>\n  </tbody>\n</table>\n</div>"
     },
     "metadata": {}
    }
   ]
  },
  {
   "cell_type": "code",
   "metadata": {
    "tags": [],
    "cell_id": "00007-6c1f6850-bc16-4f46-8d09-70031f97bad2",
    "deepnote_to_be_reexecuted": false,
    "source_hash": "f32b01b3",
    "execution_start": 1628933731991,
    "execution_millis": 7,
    "deepnote_cell_type": "code"
   },
   "source": "# 计算机，更具规则，返回对应的结果\nknn.predict(X_test)",
   "execution_count": null,
   "outputs": [
    {
     "output_type": "execute_result",
     "execution_count": 29,
     "data": {
      "text/plain": "array(['动作片', '动作片', '爱情片'], dtype=object)"
     },
     "metadata": {}
    }
   ]
  },
  {
   "cell_type": "markdown",
   "source": "<a style='text-decoration:none;line-height:16px;display:flex;color:#5B5B62;padding:10px;justify-content:end;' href='https://deepnote.com?utm_source=created-in-deepnote-cell&projectId=e91eb998-244f-4d4d-99b9-ff77222e7aa7' target=\"_blank\">\n<img alt='Created in deepnote.com' style='display:inline;max-height:16px;margin:0px;margin-right:7.5px;' src='data:image/svg+xml;base64,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' > </img>\nCreated in <span style='font-weight:600;margin-left:4px;'>Deepnote</span></a>",
   "metadata": {
    "tags": [],
    "created_in_deepnote_cell": true,
    "deepnote_cell_type": "markdown"
   }
  }
 ],
 "nbformat": 4,
 "nbformat_minor": 2,
 "metadata": {
  "orig_nbformat": 2,
  "deepnote": {
   "is_reactive": false
  },
  "deepnote_notebook_id": "26c94fdf-0044-48f6-8dfc-b3634124a5b7",
  "deepnote_execution_queue": []
 }
}