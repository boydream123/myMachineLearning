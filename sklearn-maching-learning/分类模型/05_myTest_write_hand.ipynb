{
 "cells": [
  {
   "cell_type": "code",
   "metadata": {
    "tags": [],
    "cell_id": "00001-1b577b63-3700-4bef-bbb2-75a2c59bee2a",
    "deepnote_to_be_reexecuted": false,
    "source_hash": "7d9f6d0e",
    "execution_start": 1628992782515,
    "execution_millis": 1353,
    "deepnote_cell_type": "code"
   },
   "source": "import pandas as pd\n\nimport numpy as np\n\nfrom sklearn.neighbors import KNeighborsClassifier",
   "execution_count": null,
   "outputs": []
  },
  {
   "cell_type": "code",
   "metadata": {
    "tags": [],
    "cell_id": "00001-ffbaae38-a213-4386-9216-918d09803508",
    "deepnote_to_be_reexecuted": false,
    "source_hash": "4ad1a15d",
    "execution_start": 1628992792982,
    "execution_millis": 813,
    "deepnote_cell_type": "code"
   },
   "source": "myData = pd.read_csv(\"./data/MNIST_Test_10K.csv\")\nmyData.shape",
   "execution_count": null,
   "outputs": [
    {
     "output_type": "execute_result",
     "execution_count": 4,
     "data": {
      "text/plain": "(9999, 785)"
     },
     "metadata": {}
    }
   ]
  },
  {
   "cell_type": "code",
   "metadata": {
    "tags": [],
    "cell_id": "00002-a4b0070e-c8c6-4db1-a98f-98ee271f6654",
    "deepnote_to_be_reexecuted": false,
    "source_hash": "4e3b0a32",
    "execution_start": 1628992886005,
    "deepnote_cell_type": "code"
   },
   "source": "X = myData.iloc[:,:-2]\ny = myData.iloc[:,-1]",
   "execution_count": null,
   "outputs": []
  },
  {
   "cell_type": "code",
   "metadata": {
    "tags": [],
    "cell_id": "00003-0d537f4a-1a24-473e-9870-1a2d76482408",
    "deepnote_to_be_reexecuted": false,
    "source_hash": "b2696ff6",
    "execution_start": 1628992893427,
    "execution_millis": 395,
    "deepnote_cell_type": "code"
   },
   "source": "X",
   "execution_count": null,
   "outputs": [
    {
     "output_type": "execute_result",
     "execution_count": 6,
     "data": {
      "application/vnd.deepnote.dataframe.v2+json": {
       "row_count": 9999,
       "column_count": 783,
       "columns": [
        {
         "name": "0",
         "dtype": "int64",
         "stats": {
          "unique_count": 1,
          "nan_count": 0,
          "min": "0",
          "max": "0",
          "histogram": [
           {
            "bin_start": -0.5,
            "bin_end": -0.4,
            "count": 0
           },
           {
            "bin_start": -0.4,
            "bin_end": -0.3,
            "count": 0
           },
           {
            "bin_start": -0.3,
            "bin_end": -0.19999999999999996,
            "count": 0
           },
           {
            "bin_start": -0.19999999999999996,
            "bin_end": -0.09999999999999998,
            "count": 0
           },
           {
            "bin_start": -0.09999999999999998,
            "bin_end": 0,
            "count": 0
           },
           {
            "bin_start": 0,
            "bin_end": 0.10000000000000009,
            "count": 9999
           },
           {
            "bin_start": 0.10000000000000009,
            "bin_end": 0.20000000000000007,
            "count": 0
           },
           {
            "bin_start": 0.20000000000000007,
            "bin_end": 0.30000000000000004,
            "count": 0
           },
           {
            "bin_start": 0.30000000000000004,
            "bin_end": 0.4,
            "count": 0
           },
           {
            "bin_start": 0.4,
            "bin_end": 0.5,
            "count": 0
           }
          ]
         }
        },
        {
         "name": "0.1",
         "dtype": "int64",
         "stats": {
          "unique_count": 1,
          "nan_count": 0,
          "min": "0",
          "max": "0",
          "histogram": [
           {
            "bin_start": -0.5,
            "bin_end": -0.4,
            "count": 0
           },
           {
            "bin_start": -0.4,
            "bin_end": -0.3,
            "count": 0
           },
           {
            "bin_start": -0.3,
            "bin_end": -0.19999999999999996,
            "count": 0
           },
           {
            "bin_start": -0.19999999999999996,
            "bin_end": -0.09999999999999998,
            "count": 0
           },
           {
            "bin_start": -0.09999999999999998,
            "bin_end": 0,
            "count": 0
           },
           {
            "bin_start": 0,
            "bin_end": 0.10000000000000009,
            "count": 9999
           },
           {
            "bin_start": 0.10000000000000009,
            "bin_end": 0.20000000000000007,
            "count": 0
           },
           {
            "bin_start": 0.20000000000000007,
            "bin_end": 0.30000000000000004,
            "count": 0
           },
           {
            "bin_start": 0.30000000000000004,
            "bin_end": 0.4,
            "count": 0
           },
           {
            "bin_start": 0.4,
            "bin_end": 0.5,
            "count": 0
           }
          ]
         }
        },
        {
         "name": "0.2",
         "dtype": "int64",
         "stats": {
          "unique_count": 1,
          "nan_count": 0,
          "min": "0",
          "max": "0",
          "histogram": [
           {
            "bin_start": -0.5,
            "bin_end": -0.4,
            "count": 0
           },
           {
            "bin_start": -0.4,
            "bin_end": -0.3,
            "count": 0
           },
           {
            "bin_start": -0.3,
            "bin_end": -0.19999999999999996,
            "count": 0
           },
           {
            "bin_start": -0.19999999999999996,
            "bin_end": -0.09999999999999998,
            "count": 0
           },
           {
            "bin_start": -0.09999999999999998,
            "bin_end": 0,
            "count": 0
           },
           {
            "bin_start": 0,
            "bin_end": 0.10000000000000009,
            "count": 9999
           },
           {
            "bin_start": 0.10000000000000009,
            "bin_end": 0.20000000000000007,
            "count": 0
           },
           {
            "bin_start": 0.20000000000000007,
            "bin_end": 0.30000000000000004,
            "count": 0
           },
           {
            "bin_start": 0.30000000000000004,
            "bin_end": 0.4,
            "count": 0
           },
           {
            "bin_start": 0.4,
            "bin_end": 0.5,
            "count": 0
           }
          ]
         }
        },
        {
         "name": "0.3",
         "dtype": "int64",
         "stats": {
          "unique_count": 1,
          "nan_count": 0,
          "min": "0",
          "max": "0",
          "histogram": [
           {
            "bin_start": -0.5,
            "bin_end": -0.4,
            "count": 0
           },
           {
            "bin_start": -0.4,
            "bin_end": -0.3,
            "count": 0
           },
           {
            "bin_start": -0.3,
            "bin_end": -0.19999999999999996,
            "count": 0
           },
           {
            "bin_start": -0.19999999999999996,
            "bin_end": -0.09999999999999998,
            "count": 0
           },
           {
            "bin_start": -0.09999999999999998,
            "bin_end": 0,
            "count": 0
           },
           {
            "bin_start": 0,
            "bin_end": 0.10000000000000009,
            "count": 9999
           },
           {
            "bin_start": 0.10000000000000009,
            "bin_end": 0.20000000000000007,
            "count": 0
           },
           {
            "bin_start": 0.20000000000000007,
            "bin_end": 0.30000000000000004,
            "count": 0
           },
           {
            "bin_start": 0.30000000000000004,
            "bin_end": 0.4,
            "count": 0
           },
           {
            "bin_start": 0.4,
            "bin_end": 0.5,
            "count": 0
           }
          ]
         }
        },
        {
         "name": "0.4",
         "dtype": "int64",
         "stats": {
          "unique_count": 1,
          "nan_count": 0,
          "min": "0",
          "max": "0",
          "histogram": [
           {
            "bin_start": -0.5,
            "bin_end": -0.4,
            "count": 0
           },
           {
            "bin_start": -0.4,
            "bin_end": -0.3,
            "count": 0
           },
           {
            "bin_start": -0.3,
            "bin_end": -0.19999999999999996,
            "count": 0
           },
           {
            "bin_start": -0.19999999999999996,
            "bin_end": -0.09999999999999998,
            "count": 0
           },
           {
            "bin_start": -0.09999999999999998,
            "bin_end": 0,
            "count": 0
           },
           {
            "bin_start": 0,
            "bin_end": 0.10000000000000009,
            "count": 9999
           },
           {
            "bin_start": 0.10000000000000009,
            "bin_end": 0.20000000000000007,
            "count": 0
           },
           {
            "bin_start": 0.20000000000000007,
            "bin_end": 0.30000000000000004,
            "count": 0
           },
           {
            "bin_start": 0.30000000000000004,
            "bin_end": 0.4,
            "count": 0
           },
           {
            "bin_start": 0.4,
            "bin_end": 0.5,
            "count": 0
           }
          ]
         }
        },
        {
         "name": "0.5",
         "dtype": "int64",
         "stats": {
          "unique_count": 1,
          "nan_count": 0,
          "min": "0",
          "max": "0",
          "histogram": [
           {
            "bin_start": -0.5,
            "bin_end": -0.4,
            "count": 0
           },
           {
            "bin_start": -0.4,
            "bin_end": -0.3,
            "count": 0
           },
           {
            "bin_start": -0.3,
            "bin_end": -0.19999999999999996,
            "count": 0
           },
           {
            "bin_start": -0.19999999999999996,
            "bin_end": -0.09999999999999998,
            "count": 0
           },
           {
            "bin_start": -0.09999999999999998,
            "bin_end": 0,
            "count": 0
           },
           {
            "bin_start": 0,
            "bin_end": 0.10000000000000009,
            "count": 9999
           },
           {
            "bin_start": 0.10000000000000009,
            "bin_end": 0.20000000000000007,
            "count": 0
           },
           {
            "bin_start": 0.20000000000000007,
            "bin_end": 0.30000000000000004,
            "count": 0
           },
           {
            "bin_start": 0.30000000000000004,
            "bin_end": 0.4,
            "count": 0
           },
           {
            "bin_start": 0.4,
            "bin_end": 0.5,
            "count": 0
           }
          ]
         }
        },
        {
         "name": "0.6",
         "dtype": "int64",
         "stats": {
          "unique_count": 1,
          "nan_count": 0,
          "min": "0",
          "max": "0",
          "histogram": [
           {
            "bin_start": -0.5,
            "bin_end": -0.4,
            "count": 0
           },
           {
            "bin_start": -0.4,
            "bin_end": -0.3,
            "count": 0
           },
           {
            "bin_start": -0.3,
            "bin_end": -0.19999999999999996,
            "count": 0
           },
           {
            "bin_start": -0.19999999999999996,
            "bin_end": -0.09999999999999998,
            "count": 0
           },
           {
            "bin_start": -0.09999999999999998,
            "bin_end": 0,
            "count": 0
           },
           {
            "bin_start": 0,
            "bin_end": 0.10000000000000009,
            "count": 9999
           },
           {
            "bin_start": 0.10000000000000009,
            "bin_end": 0.20000000000000007,
            "count": 0
           },
           {
            "bin_start": 0.20000000000000007,
            "bin_end": 0.30000000000000004,
            "count": 0
           },
           {
            "bin_start": 0.30000000000000004,
            "bin_end": 0.4,
            "count": 0
           },
           {
            "bin_start": 0.4,
            "bin_end": 0.5,
            "count": 0
           }
          ]
         }
        },
        {
         "name": "0.7",
         "dtype": "int64",
         "stats": {
          "unique_count": 1,
          "nan_count": 0,
          "min": "0",
          "max": "0",
          "histogram": [
           {
            "bin_start": -0.5,
            "bin_end": -0.4,
            "count": 0
           },
           {
            "bin_start": -0.4,
            "bin_end": -0.3,
            "count": 0
           },
           {
            "bin_start": -0.3,
            "bin_end": -0.19999999999999996,
            "count": 0
           },
           {
            "bin_start": -0.19999999999999996,
            "bin_end": -0.09999999999999998,
            "count": 0
           },
           {
            "bin_start": -0.09999999999999998,
            "bin_end": 0,
            "count": 0
           },
           {
            "bin_start": 0,
            "bin_end": 0.10000000000000009,
            "count": 9999
           },
           {
            "bin_start": 0.10000000000000009,
            "bin_end": 0.20000000000000007,
            "count": 0
           },
           {
            "bin_start": 0.20000000000000007,
            "bin_end": 0.30000000000000004,
            "count": 0
           },
           {
            "bin_start": 0.30000000000000004,
            "bin_end": 0.4,
            "count": 0
           },
           {
            "bin_start": 0.4,
            "bin_end": 0.5,
            "count": 0
           }
          ]
         }
        },
        {
         "name": "0.8",
         "dtype": "int64",
         "stats": {
          "unique_count": 1,
          "nan_count": 0,
          "min": "0",
          "max": "0",
          "histogram": [
           {
            "bin_start": -0.5,
            "bin_end": -0.4,
            "count": 0
           },
           {
            "bin_start": -0.4,
            "bin_end": -0.3,
            "count": 0
           },
           {
            "bin_start": -0.3,
            "bin_end": -0.19999999999999996,
            "count": 0
           },
           {
            "bin_start": -0.19999999999999996,
            "bin_end": -0.09999999999999998,
            "count": 0
           },
           {
            "bin_start": -0.09999999999999998,
            "bin_end": 0,
            "count": 0
           },
           {
            "bin_start": 0,
            "bin_end": 0.10000000000000009,
            "count": 9999
           },
           {
            "bin_start": 0.10000000000000009,
            "bin_end": 0.20000000000000007,
            "count": 0
           },
           {
            "bin_start": 0.20000000000000007,
            "bin_end": 0.30000000000000004,
            "count": 0
           },
           {
            "bin_start": 0.30000000000000004,
            "bin_end": 0.4,
            "count": 0
           },
           {
            "bin_start": 0.4,
            "bin_end": 0.5,
            "count": 0
           }
          ]
         }
        },
        {
         "name": "0.9",
         "dtype": "float64",
         "stats": {
          "unique_count": 3,
          "nan_count": 0,
          "min": "0.0",
          "max": "0.54902",
          "histogram": [
           {
            "bin_start": 0,
            "bin_end": 0.05490199999999999,
            "count": 9997
           },
           {
            "bin_start": 0.05490199999999999,
            "bin_end": 0.10980399999999998,
            "count": 1
           },
           {
            "bin_start": 0.10980399999999998,
            "bin_end": 0.16470599999999996,
            "count": 0
           },
           {
            "bin_start": 0.16470599999999996,
            "bin_end": 0.21960799999999997,
            "count": 0
           },
           {
            "bin_start": 0.21960799999999997,
            "bin_end": 0.27451,
            "count": 0
           },
           {
            "bin_start": 0.27451,
            "bin_end": 0.3294119999999999,
            "count": 0
           },
           {
            "bin_start": 0.3294119999999999,
            "bin_end": 0.38431399999999993,
            "count": 0
           },
           {
            "bin_start": 0.38431399999999993,
            "bin_end": 0.43921599999999994,
            "count": 0
           },
           {
            "bin_start": 0.43921599999999994,
            "bin_end": 0.49411799999999995,
            "count": 0
           },
           {
            "bin_start": 0.49411799999999995,
            "bin_end": 0.54902,
            "count": 1
           }
          ]
         }
        },
        {
         "name": "0.10",
         "dtype": "float64"
        },
        {
         "name": "0.11",
         "dtype": "float64"
        },
        {
         "name": "0.12",
         "dtype": "int64"
        },
        {
         "name": "0.13",
         "dtype": "int64"
        },
        {
         "name": "0.14",
         "dtype": "int64"
        },
        {
         "name": "0.15",
         "dtype": "int64"
        },
        {
         "name": "0.16",
         "dtype": "int64"
        },
        {
         "name": "0.17",
         "dtype": "int64"
        },
        {
         "name": "0.18",
         "dtype": "int64"
        },
        {
         "name": "0.19",
         "dtype": "int64"
        },
        {
         "name": "0.20",
         "dtype": "int64"
        },
        {
         "name": "0.21",
         "dtype": "int64"
        },
        {
         "name": "0.22",
         "dtype": "int64"
        },
        {
         "name": "0.23",
         "dtype": "int64"
        },
        {
         "name": "0.24",
         "dtype": "int64"
        },
        {
         "name": "0.25",
         "dtype": "int64"
        },
        {
         "name": "0.26",
         "dtype": "int64"
        },
        {
         "name": "0.27",
         "dtype": "int64"
        },
        {
         "name": "0.28",
         "dtype": "int64"
        },
        {
         "name": "0.29",
         "dtype": "int64"
        },
        {
         "name": "0.30",
         "dtype": "int64"
        },
        {
         "name": "0.31",
         "dtype": "int64"
        },
        {
         "name": "0.32",
         "dtype": "int64"
        },
        {
         "name": "0.33",
         "dtype": "float64"
        },
        {
         "name": "0.34",
         "dtype": "int64"
        },
        {
         "name": "0.35",
         "dtype": "float64"
        },
        {
         "name": "0.36",
         "dtype": "float64"
        },
        {
         "name": "0.37",
         "dtype": "float64"
        },
        {
         "name": "0.38",
         "dtype": "float64"
        },
        {
         "name": "0.39",
         "dtype": "float64"
        },
        {
         "name": "0.40",
         "dtype": "float64"
        },
        {
         "name": "0.41",
         "dtype": "float64"
        },
        {
         "name": "0.42",
         "dtype": "int64"
        },
        {
         "name": "0.43",
         "dtype": "int64"
        },
        {
         "name": "0.44",
         "dtype": "float64"
        },
        {
         "name": "0.45",
         "dtype": "int64"
        },
        {
         "name": "0.46",
         "dtype": "float64"
        },
        {
         "name": "0.47",
         "dtype": "int64"
        },
        {
         "name": "0.48",
         "dtype": "float64"
        },
        {
         "name": "0.49",
         "dtype": "int64"
        },
        {
         "name": "0.50",
         "dtype": "int64"
        },
        {
         "name": "0.51",
         "dtype": "float64"
        },
        {
         "name": "0.52",
         "dtype": "int64"
        },
        {
         "name": "0.53",
         "dtype": "int64"
        },
        {
         "name": "0.54",
         "dtype": "int64"
        },
        {
         "name": "0.55",
         "dtype": "int64"
        },
        {
         "name": "0.56",
         "dtype": "int64"
        },
        {
         "name": "0.57",
         "dtype": "int64"
        },
        {
         "name": "0.58",
         "dtype": "int64"
        },
        {
         "name": "0.59",
         "dtype": "int64"
        },
        {
         "name": "0.60",
         "dtype": "int64"
        },
        {
         "name": "0.61",
         "dtype": "float64"
        },
        {
         "name": "0.62",
         "dtype": "float64"
        },
        {
         "name": "0.63",
         "dtype": "float64"
        },
        {
         "name": "0.64",
         "dtype": "float64"
        },
        {
         "name": "0.65",
         "dtype": "float64"
        },
        {
         "name": "0.66",
         "dtype": "float64"
        },
        {
         "name": "0.67",
         "dtype": "float64"
        },
        {
         "name": "0.68",
         "dtype": "float64"
        },
        {
         "name": "0.69",
         "dtype": "float64"
        },
        {
         "name": "0.70",
         "dtype": "float64"
        },
        {
         "name": "0.71",
         "dtype": "float64"
        },
        {
         "name": "0.72",
         "dtype": "float64"
        },
        {
         "name": "0.73",
         "dtype": "float64"
        },
        {
         "name": "0.74",
         "dtype": "float64"
        },
        {
         "name": "0.75",
         "dtype": "float64"
        },
        {
         "name": "0.76",
         "dtype": "float64"
        },
        {
         "name": "0.77",
         "dtype": "float64"
        },
        {
         "name": "0.78",
         "dtype": "float64"
        },
        {
         "name": "0.79",
         "dtype": "float64"
        },
        {
         "name": "0.80",
         "dtype": "int64"
        },
        {
         "name": "0.81",
         "dtype": "int64"
        },
        {
         "name": "0.82",
         "dtype": "int64"
        },
        {
         "name": "0.83",
         "dtype": "int64"
        },
        {
         "name": "0.84",
         "dtype": "int64"
        },
        {
         "name": "0.85",
         "dtype": "int64"
        },
        {
         "name": "0.86",
         "dtype": "int64"
        },
        {
         "name": "0.87",
         "dtype": "int64"
        },
        {
         "name": "0.88",
         "dtype": "float64"
        },
        {
         "name": "0.89",
         "dtype": "float64"
        },
        {
         "name": "0.90",
         "dtype": "float64"
        },
        {
         "name": "0.91",
         "dtype": "float64"
        },
        {
         "name": "0.92",
         "dtype": "float64"
        },
        {
         "name": "0.93",
         "dtype": "float64"
        },
        {
         "name": "0.94",
         "dtype": "float64"
        },
        {
         "name": "0.95",
         "dtype": "float64"
        },
        {
         "name": "0.96",
         "dtype": "float64"
        },
        {
         "name": "0.97",
         "dtype": "float64"
        },
        {
         "name": "0.98",
         "dtype": "float64"
        },
        {
         "name": "0.99",
         "dtype": "float64"
        },
        {
         "name": "0.100",
         "dtype": "float64"
        },
        {
         "name": "0.101",
         "dtype": "float64"
        },
        {
         "name": "0.102",
         "dtype": "float64"
        },
        {
         "name": "0.103",
         "dtype": "float64"
        },
        {
         "name": "0.104",
         "dtype": "float64"
        },
        {
         "name": "0.105",
         "dtype": "float64"
        },
        {
         "name": "0.106",
         "dtype": "float64"
        },
        {
         "name": "0.107",
         "dtype": "float64"
        },
        {
         "name": "0.108",
         "dtype": "float64"
        },
        {
         "name": "0.109",
         "dtype": "float64"
        },
        {
         "name": "0.110",
         "dtype": "int64"
        },
        {
         "name": "0.111",
         "dtype": "int64"
        },
        {
         "name": "0.112",
         "dtype": "int64"
        },
        {
         "name": "0.113",
         "dtype": "int64"
        },
        {
         "name": "0.114",
         "dtype": "int64"
        },
        {
         "name": "0.115",
         "dtype": "float64"
        },
        {
         "name": "0.116",
         "dtype": "float64"
        },
        {
         "name": "0.117",
         "dtype": "float64"
        },
        {
         "name": "0.118",
         "dtype": "float64"
        },
        {
         "name": "0.119",
         "dtype": "float64"
        },
        {
         "name": "0.120",
         "dtype": "float64"
        },
        {
         "name": "0.121",
         "dtype": "float64"
        },
        {
         "name": "0.122",
         "dtype": "float64"
        },
        {
         "name": "0.123",
         "dtype": "float64"
        },
        {
         "name": "0.124",
         "dtype": "float64"
        },
        {
         "name": "0.125",
         "dtype": "float64"
        },
        {
         "name": "0.126",
         "dtype": "float64"
        },
        {
         "name": "0.127",
         "dtype": "float64"
        },
        {
         "name": "0.128",
         "dtype": "float64"
        },
        {
         "name": "0.129",
         "dtype": "float64"
        },
        {
         "name": "0.130",
         "dtype": "float64"
        },
        {
         "name": "0.131",
         "dtype": "float64"
        },
        {
         "name": "0.132",
         "dtype": "float64"
        },
        {
         "name": "0.133",
         "dtype": "float64"
        },
        {
         "name": "0.134",
         "dtype": "float64"
        },
        {
         "name": "0.135",
         "dtype": "float64"
        },
        {
         "name": "0.136",
         "dtype": "float64"
        },
        {
         "name": "0.137",
         "dtype": "float64"
        },
        {
         "name": "0.138",
         "dtype": "float64"
        },
        {
         "name": "0.139",
         "dtype": "int64"
        },
        {
         "name": "0.140",
         "dtype": "int64"
        },
        {
         "name": "0.141",
         "dtype": "float64"
        },
        {
         "name": "0.142",
         "dtype": "float64"
        },
        {
         "name": "0.143",
         "dtype": "float64"
        },
        {
         "name": "0.144",
         "dtype": "float64"
        },
        {
         "name": "0.145",
         "dtype": "float64"
        },
        {
         "name": "0.146",
         "dtype": "float64"
        },
        {
         "name": "0.147",
         "dtype": "float64"
        },
        {
         "name": "0.148",
         "dtype": "float64"
        },
        {
         "name": "0.149",
         "dtype": "float64"
        },
        {
         "name": "0.150",
         "dtype": "float64"
        },
        {
         "name": "0.151",
         "dtype": "float64"
        },
        {
         "name": "0.152",
         "dtype": "float64"
        },
        {
         "name": "0.153",
         "dtype": "float64"
        },
        {
         "name": "0.154",
         "dtype": "float64"
        },
        {
         "name": "0.155",
         "dtype": "float64"
        },
        {
         "name": "0.156",
         "dtype": "float64"
        },
        {
         "name": "0.157",
         "dtype": "float64"
        },
        {
         "name": "0.158",
         "dtype": "float64"
        },
        {
         "name": "0.159",
         "dtype": "float64"
        },
        {
         "name": "0.160",
         "dtype": "float64"
        },
        {
         "name": "0.161",
         "dtype": "float64"
        },
        {
         "name": "0.162",
         "dtype": "float64"
        },
        {
         "name": "0.163",
         "dtype": "float64"
        },
        {
         "name": "0.164",
         "dtype": "float64"
        },
        {
         "name": "0.165",
         "dtype": "float64"
        },
        {
         "name": "0.166",
         "dtype": "float64"
        },
        {
         "name": "0.167",
         "dtype": "int64"
        },
        {
         "name": "0.168",
         "dtype": "int64"
        },
        {
         "name": "0.169",
         "dtype": "float64"
        },
        {
         "name": "0.170",
         "dtype": "float64"
        },
        {
         "name": "0.171",
         "dtype": "float64"
        },
        {
         "name": "0.172",
         "dtype": "float64"
        },
        {
         "name": "0.173",
         "dtype": "float64"
        },
        {
         "name": "0.174",
         "dtype": "float64"
        },
        {
         "name": "0.32941",
         "dtype": "float64"
        },
        {
         "name": "0.87059",
         "dtype": "float64"
        },
        {
         "name": "0.26275",
         "dtype": "float64"
        },
        {
         "name": "0.175",
         "dtype": "float64"
        },
        {
         "name": "0.176",
         "dtype": "float64"
        },
        {
         "name": "0.177",
         "dtype": "float64"
        },
        {
         "name": "0.178",
         "dtype": "float64"
        },
        {
         "name": "0.179",
         "dtype": "float64"
        },
        {
         "name": "0.180",
         "dtype": "float64"
        },
        {
         "name": "0.181",
         "dtype": "float64"
        },
        {
         "name": "0.182",
         "dtype": "float64"
        },
        {
         "name": "0.183",
         "dtype": "float64"
        },
        {
         "name": "0.184",
         "dtype": "float64"
        },
        {
         "name": "0.185",
         "dtype": "float64"
        },
        {
         "name": "0.186",
         "dtype": "float64"
        },
        {
         "name": "0.187",
         "dtype": "float64"
        },
        {
         "name": "0.188",
         "dtype": "float64"
        },
        {
         "name": "0.189",
         "dtype": "float64"
        },
        {
         "name": "0.190",
         "dtype": "float64"
        },
        {
         "name": "0.191",
         "dtype": "float64"
        },
        {
         "name": "0.192",
         "dtype": "float64"
        },
        {
         "name": "0.193",
         "dtype": "int64"
        },
        {
         "name": "0.194",
         "dtype": "float64"
        },
        {
         "name": "0.195",
         "dtype": "float64"
        },
        {
         "name": "0.196",
         "dtype": "float64"
        },
        {
         "name": "0.197",
         "dtype": "float64"
        },
        {
         "name": "0.198",
         "dtype": "float64"
        },
        {
         "name": "0.199",
         "dtype": "float64"
        },
        {
         "name": "0.72549",
         "dtype": "float64"
        },
        {
         "name": "0.99608",
         "dtype": "float64"
        },
        {
         "name": "0.44706",
         "dtype": "float64"
        },
        {
         "name": "0.200",
         "dtype": "float64"
        },
        {
         "name": "0.201",
         "dtype": "float64"
        },
        {
         "name": "0.202",
         "dtype": "float64"
        },
        {
         "name": "0.203",
         "dtype": "float64"
        },
        {
         "name": "0.204",
         "dtype": "float64"
        },
        {
         "name": "0.205",
         "dtype": "float64"
        },
        {
         "name": "0.206",
         "dtype": "float64"
        },
        {
         "name": "0.207",
         "dtype": "float64"
        },
        {
         "name": "0.208",
         "dtype": "float64"
        },
        {
         "name": "0.209",
         "dtype": "float64"
        },
        {
         "name": "0.210",
         "dtype": "float64"
        },
        {
         "name": "0.211",
         "dtype": "float64"
        },
        {
         "name": "0.212",
         "dtype": "float64"
        },
        {
         "name": "0.213",
         "dtype": "float64"
        },
        {
         "name": "0.214",
         "dtype": "float64"
        },
        {
         "name": "0.215",
         "dtype": "float64"
        },
        {
         "name": "0.216",
         "dtype": "float64"
        },
        {
         "name": "0.217",
         "dtype": "float64"
        },
        {
         "name": "0.218",
         "dtype": "int64"
        },
        {
         "name": "0.219",
         "dtype": "float64"
        },
        {
         "name": "0.220",
         "dtype": "float64"
        },
        {
         "name": "0.221",
         "dtype": "float64"
        },
        {
         "name": "0.222",
         "dtype": "float64"
        },
        {
         "name": "0.223",
         "dtype": "float64"
        },
        {
         "name": "0.224",
         "dtype": "float64"
        },
        {
         "name": "0.62353",
         "dtype": "float64"
        },
        {
         "name": "0.99608.1",
         "dtype": "float64"
        },
        {
         "name": "0.28235",
         "dtype": "float64"
        },
        {
         "name": "0.225",
         "dtype": "float64"
        },
        {
         "name": "0.226",
         "dtype": "float64"
        },
        {
         "name": "0.227",
         "dtype": "float64"
        },
        {
         "name": "0.228",
         "dtype": "float64"
        },
        {
         "name": "0.229",
         "dtype": "float64"
        },
        {
         "name": "0.230",
         "dtype": "float64"
        },
        {
         "name": "0.231",
         "dtype": "float64"
        },
        {
         "name": "0.232",
         "dtype": "float64"
        },
        {
         "name": "0.233",
         "dtype": "float64"
        },
        {
         "name": "0.234",
         "dtype": "float64"
        },
        {
         "name": "0.235",
         "dtype": "float64"
        },
        {
         "name": "0.236",
         "dtype": "float64"
        },
        {
         "name": "0.237",
         "dtype": "float64"
        },
        {
         "name": "0.238",
         "dtype": "float64"
        },
        {
         "name": "0.239",
         "dtype": "float64"
        },
        {
         "name": "0.240",
         "dtype": "float64"
        },
        {
         "name": "0.241",
         "dtype": "float64"
        },
        {
         "name": "0.242",
         "dtype": "float64"
        },
        {
         "name": "0.243",
         "dtype": "int64"
        },
        {
         "name": "0.244",
         "dtype": "float64"
        },
        {
         "name": "0.245",
         "dtype": "float64"
        },
        {
         "name": "0.246",
         "dtype": "float64"
        },
        {
         "name": "0.247",
         "dtype": "float64"
        },
        {
         "name": "0.248",
         "dtype": "float64"
        },
        {
         "name": "0.249",
         "dtype": "float64"
        },
        {
         "name": "0.59216",
         "dtype": "float64"
        },
        {
         "name": "0.99608.2",
         "dtype": "float64"
        },
        {
         "name": "0.44706.1",
         "dtype": "float64"
        },
        {
         "name": "0.250",
         "dtype": "float64"
        },
        {
         "name": "0.251",
         "dtype": "float64"
        },
        {
         "name": "0.252",
         "dtype": "float64"
        },
        {
         "name": "0.253",
         "dtype": "float64"
        },
        {
         "name": "0.254",
         "dtype": "float64"
        },
        {
         "name": "0.255",
         "dtype": "float64"
        },
        {
         "name": "0.256",
         "dtype": "float64"
        },
        {
         "name": "0.257",
         "dtype": "float64"
        },
        {
         "name": "0.258",
         "dtype": "float64"
        },
        {
         "name": "0.259",
         "dtype": "float64"
        },
        {
         "name": "0.260",
         "dtype": "float64"
        },
        {
         "name": "0.261",
         "dtype": "float64"
        },
        {
         "name": "0.262",
         "dtype": "float64"
        },
        {
         "name": "0.263",
         "dtype": "float64"
        },
        {
         "name": "0.264",
         "dtype": "float64"
        },
        {
         "name": "0.265",
         "dtype": "float64"
        },
        {
         "name": "0.266",
         "dtype": "float64"
        },
        {
         "name": "0.267",
         "dtype": "float64"
        },
        {
         "name": "0.268",
         "dtype": "int64"
        },
        {
         "name": "0.269",
         "dtype": "float64"
        },
        {
         "name": "0.270",
         "dtype": "float64"
        },
        {
         "name": "0.271",
         "dtype": "float64"
        },
        {
         "name": "0.272",
         "dtype": "float64"
        },
        {
         "name": "0.273",
         "dtype": "float64"
        },
        {
         "name": "0.274",
         "dtype": "float64"
        },
        {
         "name": "0.23529",
         "dtype": "float64"
        },
        {
         "name": "0.99608.3",
         "dtype": "float64"
        },
        {
         "name": "0.63922",
         "dtype": "float64"
        },
        {
         "name": "0.275",
         "dtype": "float64"
        },
        {
         "name": "0.276",
         "dtype": "float64"
        },
        {
         "name": "0.277",
         "dtype": "float64"
        },
        {
         "name": "0.278",
         "dtype": "float64"
        },
        {
         "name": "0.279",
         "dtype": "float64"
        },
        {
         "name": "0.280",
         "dtype": "float64"
        },
        {
         "name": "0.281",
         "dtype": "float64"
        },
        {
         "name": "0.282",
         "dtype": "float64"
        },
        {
         "name": "0.283",
         "dtype": "float64"
        },
        {
         "name": "0.284",
         "dtype": "float64"
        },
        {
         "name": "0.285",
         "dtype": "float64"
        },
        {
         "name": "0.286",
         "dtype": "float64"
        },
        {
         "name": "0.287",
         "dtype": "float64"
        },
        {
         "name": "0.288",
         "dtype": "float64"
        },
        {
         "name": "0.23922",
         "dtype": "float64"
        },
        {
         "name": "0.47451",
         "dtype": "float64"
        },
        {
         "name": "0.47451.1",
         "dtype": "float64"
        },
        {
         "name": "0.289",
         "dtype": "float64"
        },
        {
         "name": "0.290",
         "dtype": "int64"
        },
        {
         "name": "0.291",
         "dtype": "float64"
        },
        {
         "name": "0.292",
         "dtype": "float64"
        },
        {
         "name": "0.293",
         "dtype": "float64"
        },
        {
         "name": "0.294",
         "dtype": "float64"
        },
        {
         "name": "0.295",
         "dtype": "float64"
        },
        {
         "name": "0.296",
         "dtype": "float64"
        },
        {
         "name": "0.14118",
         "dtype": "float64"
        },
        {
         "name": "0.9451",
         "dtype": "float64"
        },
        {
         "name": "0.8902",
         "dtype": "float64"
        },
        {
         "name": "0.066667",
         "dtype": "float64"
        },
        {
         "name": "0.297",
         "dtype": "float64"
        },
        {
         "name": "0.298",
         "dtype": "float64"
        },
        {
         "name": "0.299",
         "dtype": "float64"
        },
        {
         "name": "0.300",
         "dtype": "float64"
        },
        {
         "name": "0.301",
         "dtype": "float64"
        },
        {
         "name": "0.302",
         "dtype": "float64"
        },
        {
         "name": "0.303",
         "dtype": "float64"
        },
        {
         "name": "0.304",
         "dtype": "float64"
        },
        {
         "name": "0.305",
         "dtype": "float64"
        },
        {
         "name": "0.306",
         "dtype": "float64"
        },
        {
         "name": "0.307",
         "dtype": "float64"
        },
        {
         "name": "0.12157",
         "dtype": "float64"
        },
        {
         "name": "0.52157",
         "dtype": "float64"
        },
        {
         "name": "0.94902",
         "dtype": "float64"
        },
        {
         "name": "0.99608.4",
         "dtype": "float64"
        },
        {
         "name": "0.99608.5",
         "dtype": "float64"
        },
        {
         "name": "0.308",
         "dtype": "float64"
        },
        {
         "name": "0.309",
         "dtype": "int64"
        },
        {
         "name": "0.310",
         "dtype": "float64"
        },
        {
         "name": "0.311",
         "dtype": "float64"
        },
        {
         "name": "0.312",
         "dtype": "float64"
        },
        {
         "name": "0.313",
         "dtype": "float64"
        },
        {
         "name": "0.314",
         "dtype": "float64"
        },
        {
         "name": "0.315",
         "dtype": "float64"
        },
        {
         "name": "0.316",
         "dtype": "float64"
        },
        {
         "name": "0.77647",
         "dtype": "float64"
        },
        {
         "name": "0.99608.6",
         "dtype": "float64"
        },
        {
         "name": "0.25882",
         "dtype": "float64"
        },
        {
         "name": "0.317",
         "dtype": "float64"
        },
        {
         "name": "0.318",
         "dtype": "float64"
        },
        {
         "name": "0.319",
         "dtype": "float64"
        },
        {
         "name": "0.320",
         "dtype": "float64"
        },
        {
         "name": "0.321",
         "dtype": "float64"
        },
        {
         "name": "0.322",
         "dtype": "float64"
        },
        {
         "name": "0.323",
         "dtype": "float64"
        },
        {
         "name": "0.324",
         "dtype": "float64"
        },
        {
         "name": "0.325",
         "dtype": "float64"
        },
        {
         "name": "0.011765",
         "dtype": "float64"
        },
        {
         "name": "0.14902",
         "dtype": "float64"
        },
        {
         "name": "0.87843",
         "dtype": "float64"
        },
        {
         "name": "0.99608.7",
         "dtype": "float64"
        },
        {
         "name": "0.99608.8",
         "dtype": "float64"
        },
        {
         "name": "0.99608.9",
         "dtype": "float64"
        },
        {
         "name": "0.81176",
         "dtype": "float64"
        },
        {
         "name": "0.326",
         "dtype": "float64"
        },
        {
         "name": "0.327",
         "dtype": "int64"
        },
        {
         "name": "0.328",
         "dtype": "float64"
        },
        {
         "name": "0.329",
         "dtype": "float64"
        },
        {
         "name": "0.330",
         "dtype": "float64"
        },
        {
         "name": "0.331",
         "dtype": "float64"
        },
        {
         "name": "0.332",
         "dtype": "float64"
        },
        {
         "name": "0.333",
         "dtype": "float64"
        },
        {
         "name": "0.334",
         "dtype": "float64"
        },
        {
         "name": "0.77647.1",
         "dtype": "float64"
        },
        {
         "name": "0.88235",
         "dtype": "float64"
        },
        {
         "name": "0.054902",
         "dtype": "float64"
        },
        {
         "name": "0.335",
         "dtype": "float64"
        },
        {
         "name": "0.336",
         "dtype": "float64"
        },
        {
         "name": "0.337",
         "dtype": "float64"
        },
        {
         "name": "0.338",
         "dtype": "float64"
        },
        {
         "name": "0.339",
         "dtype": "float64"
        },
        {
         "name": "0.340",
         "dtype": "float64"
        },
        {
         "name": "0.341",
         "dtype": "float64"
        },
        {
         "name": "0.342",
         "dtype": "float64"
        },
        {
         "name": "0.07451",
         "dtype": "float64"
        },
        {
         "name": "0.79608",
         "dtype": "float64"
        },
        {
         "name": "0.99608.10",
         "dtype": "float64"
        },
        {
         "name": "0.99608.11",
         "dtype": "float64"
        },
        {
         "name": "0.99608.12",
         "dtype": "float64"
        },
        {
         "name": "0.99608.13",
         "dtype": "float64"
        },
        {
         "name": "0.85882",
         "dtype": "float64"
        },
        {
         "name": "0.070588",
         "dtype": "float64"
        },
        {
         "name": "0.343",
         "dtype": "float64"
        },
        {
         "name": "0.344",
         "dtype": "int64"
        },
        {
         "name": "0.345",
         "dtype": "float64"
        },
        {
         "name": "0.346",
         "dtype": "float64"
        },
        {
         "name": "0.347",
         "dtype": "float64"
        },
        {
         "name": "0.348",
         "dtype": "float64"
        },
        {
         "name": "0.349",
         "dtype": "float64"
        },
        {
         "name": "0.350",
         "dtype": "float64"
        },
        {
         "name": "0.351",
         "dtype": "float64"
        },
        {
         "name": "0.77647.2",
         "dtype": "float64"
        },
        {
         "name": "0.99608.14",
         "dtype": "float64"
        },
        {
         "name": "0.26275.1",
         "dtype": "float64"
        },
        {
         "name": "0.352",
         "dtype": "float64"
        },
        {
         "name": "0.353",
         "dtype": "float64"
        },
        {
         "name": "0.354",
         "dtype": "float64"
        },
        {
         "name": "0.355",
         "dtype": "float64"
        },
        {
         "name": "0.356",
         "dtype": "float64"
        },
        {
         "name": "0.357",
         "dtype": "float64"
        },
        {
         "name": "0.358",
         "dtype": "float64"
        },
        {
         "name": "0.29412",
         "dtype": "float64"
        },
        {
         "name": "0.86667",
         "dtype": "float64"
        },
        {
         "name": "0.99608.15",
         "dtype": "float64"
        },
        {
         "name": "0.99608.16",
         "dtype": "float64"
        },
        {
         "name": "0.45098",
         "dtype": "float64"
        },
        {
         "name": "0.20392",
         "dtype": "float64"
        },
        {
         "name": "0.20392.1",
         "dtype": "float64"
        },
        {
         "name": "0.15686",
         "dtype": "float64"
        },
        {
         "name": "0.359",
         "dtype": "float64"
        },
        {
         "name": "0.360",
         "dtype": "float64"
        },
        {
         "name": "0.361",
         "dtype": "int64"
        },
        {
         "name": "0.362",
         "dtype": "float64"
        },
        {
         "name": "0.363",
         "dtype": "float64"
        },
        {
         "name": "0.364",
         "dtype": "float64"
        },
        {
         "name": "0.365",
         "dtype": "float64"
        },
        {
         "name": "0.366",
         "dtype": "float64"
        },
        {
         "name": "0.367",
         "dtype": "float64"
        },
        {
         "name": "0.368",
         "dtype": "float64"
        },
        {
         "name": "0.77647.3",
         "dtype": "float64"
        },
        {
         "name": "0.99608.17",
         "dtype": "float64"
        },
        {
         "name": "0.26275.2",
         "dtype": "float64"
        },
        {
         "name": "0.369",
         "dtype": "float64"
        },
        {
         "name": "0.370",
         "dtype": "float64"
        },
        {
         "name": "0.371",
         "dtype": "float64"
        },
        {
         "name": "0.372",
         "dtype": "float64"
        },
        {
         "name": "0.373",
         "dtype": "float64"
        },
        {
         "name": "0.035294",
         "dtype": "float64"
        },
        {
         "name": "0.49412",
         "dtype": "float64"
        },
        {
         "name": "0.98431",
         "dtype": "float64"
        },
        {
         "name": "0.99608.18",
         "dtype": "float64"
        },
        {
         "name": "0.85882.1",
         "dtype": "float64"
        },
        {
         "name": "0.30196",
         "dtype": "float64"
        },
        {
         "name": "0.0039216",
         "dtype": "float64"
        },
        {
         "name": "0.374",
         "dtype": "float64"
        },
        {
         "name": "0.375",
         "dtype": "float64"
        },
        {
         "name": "0.376",
         "dtype": "float64"
        },
        {
         "name": "0.377",
         "dtype": "float64"
        },
        {
         "name": "0.378",
         "dtype": "float64"
        },
        {
         "name": "0.379",
         "dtype": "int64"
        },
        {
         "name": "0.380",
         "dtype": "float64"
        },
        {
         "name": "0.381",
         "dtype": "float64"
        },
        {
         "name": "0.382",
         "dtype": "float64"
        },
        {
         "name": "0.383",
         "dtype": "float64"
        },
        {
         "name": "0.384",
         "dtype": "float64"
        },
        {
         "name": "0.385",
         "dtype": "float64"
        },
        {
         "name": "0.386",
         "dtype": "float64"
        },
        {
         "name": "0.77647.4",
         "dtype": "float64"
        },
        {
         "name": "0.99608.19",
         "dtype": "float64"
        },
        {
         "name": "0.26275.3",
         "dtype": "float64"
        },
        {
         "name": "0.387",
         "dtype": "float64"
        },
        {
         "name": "0.388",
         "dtype": "float64"
        },
        {
         "name": "0.389",
         "dtype": "float64"
        },
        {
         "name": "0.23137",
         "dtype": "float64"
        },
        {
         "name": "0.52157.1",
         "dtype": "float64"
        },
        {
         "name": "0.80392",
         "dtype": "float64"
        },
        {
         "name": "0.99608.20",
         "dtype": "float64"
        },
        {
         "name": "0.94118",
         "dtype": "float64"
        },
        {
         "name": "0.65098",
         "dtype": "float64"
        },
        {
         "name": "0.13725",
         "dtype": "float64"
        },
        {
         "name": "0.390",
         "dtype": "float64"
        },
        {
         "name": "0.391",
         "dtype": "float64"
        },
        {
         "name": "0.392",
         "dtype": "float64"
        },
        {
         "name": "0.393",
         "dtype": "float64"
        },
        {
         "name": "0.394",
         "dtype": "float64"
        },
        {
         "name": "0.395",
         "dtype": "float64"
        },
        {
         "name": "0.396",
         "dtype": "float64"
        },
        {
         "name": "0.397",
         "dtype": "int64"
        },
        {
         "name": "0.398",
         "dtype": "float64"
        },
        {
         "name": "0.399",
         "dtype": "float64"
        },
        {
         "name": "0.400",
         "dtype": "float64"
        },
        {
         "name": "0.401",
         "dtype": "float64"
        },
        {
         "name": "0.402",
         "dtype": "float64"
        },
        {
         "name": "0.403",
         "dtype": "float64"
        },
        {
         "name": "0.404",
         "dtype": "float64"
        },
        {
         "name": "0.77647.5",
         "dtype": "float64"
        },
        {
         "name": "0.98039",
         "dtype": "float64"
        },
        {
         "name": "0.23137.1",
         "dtype": "float64"
        },
        {
         "name": "0.405",
         "dtype": "float64"
        },
        {
         "name": "0.086275",
         "dtype": "float64"
        },
        {
         "name": "0.50588",
         "dtype": "float64"
        },
        {
         "name": "0.97647",
         "dtype": "float64"
        },
        {
         "name": "0.99608.21",
         "dtype": "float64"
        },
        {
         "name": "0.97255",
         "dtype": "float64"
        },
        {
         "name": "0.71373",
         "dtype": "float64"
        },
        {
         "name": "0.22353",
         "dtype": "float64"
        },
        {
         "name": "0.406",
         "dtype": "float64"
        },
        {
         "name": "0.407",
         "dtype": "float64"
        },
        {
         "name": "0.408",
         "dtype": "float64"
        },
        {
         "name": "0.409",
         "dtype": "float64"
        },
        {
         "name": "0.410",
         "dtype": "float64"
        },
        {
         "name": "_deepnote_index_column",
         "dtype": "int64"
        }
       ],
       "rows_top": [
        {
         "0": 0,
         "0.1": 0,
         "0.2": 0,
         "0.3": 0,
         "0.4": 0,
         "0.5": 0,
         "0.6": 0,
         "0.7": 0,
         "0.8": 0,
         "0.9": 0,
         "0.10": 0,
         "0.11": 0,
         "0.12": 0,
         "0.13": 0,
         "0.14": 0,
         "0.15": 0,
         "0.16": 0,
         "0.17": 0,
         "0.18": 0,
         "0.19": 0,
         "0.20": 0,
         "0.21": 0,
         "0.22": 0,
         "0.23": 0,
         "0.24": 0,
         "0.25": 0,
         "0.26": 0,
         "0.27": 0,
         "0.28": 0,
         "0.29": 0,
         "0.30": 0,
         "0.31": 0,
         "0.32": 0,
         "0.33": 0,
         "0.34": 0,
         "0.35": 0,
         "0.36": 0,
         "0.37": 0,
         "0.38": 0,
         "0.39": 0,
         "0.40": 0,
         "0.41": 0,
         "0.42": 0,
         "0.43": 0,
         "0.44": 0,
         "0.45": 0,
         "0.46": 0,
         "0.47": 0,
         "0.48": 0,
         "0.49": 0,
         "0.50": 0,
         "0.51": 0,
         "0.52": 0,
         "0.53": 0,
         "0.54": 0,
         "0.55": 0,
         "0.56": 0,
         "0.57": 0,
         "0.58": 0,
         "0.59": 0,
         "0.60": 0,
         "0.61": 0,
         "0.62": 0,
         "0.63": 0,
         "0.64": 0,
         "0.65": 0,
         "0.66": 0,
         "0.67": 0,
         "0.68": 0,
         "0.69": 0,
         "0.70": 0,
         "0.71": 0,
         "0.72": 0,
         "0.73": 0,
         "0.74": 0,
         "0.75": 0,
         "0.76": 0,
         "0.77": 0,
         "0.78": 0,
         "0.79": 0,
         "0.80": 0,
         "0.81": 0,
         "0.82": 0,
         "0.83": 0,
         "0.84": 0,
         "0.85": 0,
         "0.86": 0,
         "0.87": 0,
         "0.88": 0,
         "0.89": 0,
         "0.90": 0,
         "0.91": 0,
         "0.92": 0,
         "0.93": 0,
         "0.94": 0,
         "0.95": 0,
         "0.96": 0,
         "0.97": 0,
         "0.98": 0,
         "0.99": 0,
         "0.100": 0,
         "0.101": 0,
         "0.102": 0,
         "0.103": 0,
         "0.104": 0,
         "0.105": 0,
         "0.106": 0,
         "0.107": 0,
         "0.108": 0,
         "0.109": 0,
         "0.110": 0,
         "0.111": 0,
         "0.112": 0,
         "0.113": 0,
         "0.114": 0,
         "0.115": 0,
         "0.116": 0,
         "0.117": 0,
         "0.118": 0,
         "0.119": 0,
         "0.120": 0,
         "0.121": 0,
         "0.122": 0,
         "0.123": 0,
         "0.124": 0,
         "0.125": 0,
         "0.126": 0,
         "0.127": 0,
         "0.128": 0,
         "0.129": 0,
         "0.130": 0,
         "0.131": 0,
         "0.132": 0,
         "0.133": 0,
         "0.134": 0,
         "0.135": 0,
         "0.136": 0,
         "0.137": 0,
         "0.138": 0,
         "0.139": 0,
         "0.140": 0,
         "0.141": 0,
         "0.142": 0,
         "0.143": 0,
         "0.144": 0,
         "0.145": 0,
         "0.146": 0,
         "0.147": 0,
         "0.148": 0,
         "0.149": 0,
         "0.150": 0,
         "0.151": 0,
         "0.152": 0,
         "0.153": 0,
         "0.154": 0,
         "0.155": 0,
         "0.156": 0,
         "0.157": 0,
         "0.158": 0,
         "0.159": 0,
         "0.160": 0,
         "0.161": 0,
         "0.162": 0,
         "0.163": 0,
         "0.164": 0,
         "0.165": 0,
         "0.166": 0,
         "0.167": 0,
         "0.168": 0,
         "0.169": 0,
         "0.170": 0,
         "0.171": 0,
         "0.172": 0,
         "0.173": 0,
         "0.174": 0,
         "0.32941": 0,
         "0.87059": 0,
         "0.26275": 0,
         "0.175": 0,
         "0.176": 0,
         "0.177": 0,
         "0.178": 0,
         "0.179": 0,
         "0.180": 0,
         "0.181": 0,
         "0.182": 0,
         "0.183": 0,
         "0.184": 0,
         "0.185": 0,
         "0.186": 0,
         "0.187": 0,
         "0.188": 0,
         "0.189": 0,
         "0.190": 0,
         "0.191": 0,
         "0.192": 0,
         "0.193": 0,
         "0.194": 0,
         "0.195": 0,
         "0.196": 0,
         "0.197": 0,
         "0.198": 0,
         "0.199": 0.20392,
         "0.72549": 0.30196,
         "0.99608": 0,
         "0.44706": 0,
         "0.200": 0,
         "0.201": 0,
         "0.202": 0,
         "0.203": 0,
         "0.204": 0,
         "0.205": 0,
         "0.206": 0,
         "0.207": 0,
         "0.208": 0,
         "0.209": 0,
         "0.210": 0,
         "0.211": 0,
         "0.212": 0,
         "0.213": 0,
         "0.214": 0,
         "0.215": 0,
         "0.216": 0,
         "0.217": 0,
         "0.218": 0,
         "0.219": 0,
         "0.220": 0,
         "0.221": 0,
         "0.222": 0,
         "0.223": 0.66275,
         "0.224": 0.98039,
         "0.62353": 0.98431,
         "0.99608.1": 0.12157,
         "0.28235": 0,
         "0.225": 0,
         "0.226": 0,
         "0.227": 0,
         "0.228": 0,
         "0.229": 0,
         "0.230": 0,
         "0.231": 0.07451,
         "0.232": 0.52549,
         "0.233": 0.97255,
         "0.234": 0.97255,
         "0.235": 0.97255,
         "0.236": 0.68235,
         "0.237": 0,
         "0.238": 0,
         "0.239": 0,
         "0.240": 0,
         "0.241": 0,
         "0.242": 0,
         "0.243": 0,
         "0.244": 0,
         "0.245": 0,
         "0.246": 0,
         "0.247": 0.66275,
         "0.248": 0.99216,
         "0.249": 0.99216,
         "0.59216": 0.82353,
         "0.99608.2": 0.070588,
         "0.44706.1": 0,
         "0.250": 0,
         "0.251": 0,
         "0.252": 0,
         "0.253": 0,
         "0.254": 0,
         "0.255": 0.30588,
         "0.256": 0.78431,
         "0.257": 0.99216,
         "0.258": 0.99216,
         "0.259": 0.99216,
         "0.260": 0.99216,
         "0.261": 0.99216,
         "0.262": 0.46275,
         "0.263": 0,
         "0.264": 0,
         "0.265": 0,
         "0.266": 0,
         "0.267": 0,
         "0.268": 0,
         "0.269": 0,
         "0.270": 0,
         "0.271": 0.4549,
         "0.272": 0.99216,
         "0.273": 0.99216,
         "0.274": 0.82353,
         "0.23529": 0.098039,
         "0.99608.3": 0,
         "0.63922": 0,
         "0.275": 0,
         "0.276": 0,
         "0.277": 0,
         "0.278": 0.098039,
         "0.279": 0.77647,
         "0.280": 0.97255,
         "0.281": 0.99216,
         "0.282": 0.99216,
         "0.283": 0.99216,
         "0.284": 0.99216,
         "0.285": 0.99216,
         "0.286": 0.99216,
         "0.287": 0.48235,
         "0.288": 0,
         "0.23922": 0,
         "0.47451": 0,
         "0.47451.1": 0,
         "0.289": 0,
         "0.290": 0,
         "0.291": 0,
         "0.292": 0,
         "0.293": 0.4902,
         "0.294": 0.99216,
         "0.295": 0.99216,
         "0.296": 0.12549,
         "0.14118": 0,
         "0.9451": 0,
         "0.8902": 0,
         "0.066667": 0,
         "0.297": 0,
         "0.298": 0.6902,
         "0.299": 0.91765,
         "0.300": 0.99216,
         "0.301": 0.99216,
         "0.302": 0.99216,
         "0.303": 0.67843,
         "0.304": 0.098039,
         "0.305": 0.16863,
         "0.306": 0.99216,
         "0.307": 0.99216,
         "0.12157": 0.48235,
         "0.52157": 0,
         "0.94902": 0,
         "0.99608.4": 0,
         "0.99608.5": 0,
         "0.308": 0,
         "0.309": 0,
         "0.310": 0,
         "0.311": 0,
         "0.312": 0.67059,
         "0.313": 0.99216,
         "0.314": 0.83529,
         "0.315": 0.047059,
         "0.316": 0,
         "0.77647": 0,
         "0.99608.6": 0,
         "0.25882": 0.29804,
         "0.317": 0.50196,
         "0.318": 0.96471,
         "0.319": 0.99216,
         "0.320": 0.99216,
         "0.321": 0.74118,
         "0.322": 0.55294,
         "0.323": 0.047059,
         "0.324": 0,
         "0.325": 0.078431,
         "0.011765": 0.99216,
         "0.14902": 0.99216,
         "0.87843": 0.48235,
         "0.99608.7": 0,
         "0.99608.8": 0,
         "0.99608.9": 0,
         "0.81176": 0,
         "0.326": 0,
         "0.327": 0,
         "0.328": 0,
         "0.329": 0,
         "0.330": 1,
         "0.331": 0.99216,
         "0.332": 0.55686,
         "0.333": 0,
         "0.334": 0,
         "0.77647.1": 0,
         "0.88235": 0.45882,
         "0.054902": 0.96863,
         "0.335": 0.99216,
         "0.336": 0.99216,
         "0.337": 0.91373,
         "0.338": 0.55294,
         "0.339": 0.047059,
         "0.340": 0,
         "0.341": 0,
         "0.342": 0,
         "0.07451": 0.078431,
         "0.79608": 0.99216,
         "0.99608.10": 0.99216,
         "0.99608.11": 0.65098,
         "0.99608.12": 0,
         "0.99608.13": 0,
         "0.85882": 0,
         "0.070588": 0,
         "0.343": 0,
         "0.344": 0,
         "0.345": 0,
         "0.346": 0,
         "0.347": 1,
         "0.348": 0.99216,
         "0.349": 0.6902,
         "0.350": 0.023529,
         "0.351": 0.47843,
         "0.77647.2": 0.81961,
         "0.99608.14": 0.96863,
         "0.26275.1": 0.99216,
         "0.352": 0.99216,
         "0.353": 0.62353,
         "0.354": 0.13725,
         "0.355": 0,
         "0.356": 0,
         "0.357": 0,
         "0.358": 0,
         "0.29412": 0,
         "0.86667": 0.078431,
         "0.99608.15": 0.99216,
         "0.99608.16": 0.99216,
         "0.45098": 0.99216,
         "0.20392": 0,
         "0.20392.1": 0,
         "0.15686": 0,
         "0.359": 0,
         "0.360": 0,
         "0.361": 0,
         "0.362": 0,
         "0.363": 0,
         "0.364": 0.58824,
         "0.365": 0.99216,
         "0.366": 0.99216,
         "0.367": 0.80784,
         "0.368": 0.97255,
         "0.77647.3": 0.99216,
         "0.99608.17": 0.99216,
         "0.26275.2": 0.90588,
         "0.369": 0.56471,
         "0.370": 0.047059,
         "0.371": 0,
         "0.372": 0,
         "0.373": 0,
         "0.035294": 0,
         "0.49412": 0,
         "0.98431": 0,
         "0.99608.18": 0.078431,
         "0.85882.1": 0.99216,
         "0.30196": 0.99216,
         "0.0039216": 0.99216,
         "0.374": 0,
         "0.375": 0,
         "0.376": 0,
         "0.377": 0,
         "0.378": 0,
         "0.379": 0,
         "0.380": 0,
         "0.381": 0,
         "0.382": 0.36471,
         "0.383": 0.8549,
         "0.384": 0.99216,
         "0.385": 0.99216,
         "0.386": 0.99216,
         "0.77647.4": 0.99216,
         "0.99608.19": 0.77647,
         "0.26275.3": 0.24706,
         "0.387": 0,
         "0.388": 0,
         "0.389": 0,
         "0.23137": 0,
         "0.52157.1": 0,
         "0.80392": 0,
         "0.99608.20": 0,
         "0.94118": 0,
         "0.65098": 0.019608,
         "0.13725": 0.65882,
         "0.390": 0.99216,
         "0.391": 0.99216,
         "0.392": 0,
         "0.393": 0,
         "0.394": 0,
         "0.395": 0,
         "0.396": 0,
         "0.397": 0,
         "0.398": 0,
         "0.399": 0,
         "0.400": 0,
         "0.401": 0.11765,
         "0.402": 0.47843,
         "0.403": 0.54902,
         "0.404": 0.2549,
         "0.77647.5": 0.2549,
         "0.98039": 0.039216,
         "0.23137.1": 0,
         "0.405": 0,
         "0.086275": 0,
         "0.50588": 0,
         "0.97647": 0,
         "0.99608.21": 0,
         "0.97255": 0,
         "0.71373": 0,
         "0.22353": 0,
         "0.406": 0,
         "0.407": 0.56078,
         "0.408": 0.99216,
         "0.409": 0.60784,
         "0.410": 0,
         "_deepnote_index_column": 0
        }
       ],
       "rows_bottom": [
        {
         "0": 0,
         "0.1": 0,
         "0.2": 0,
         "0.3": 0,
         "0.4": 0,
         "0.5": 0,
         "0.6": 0,
         "0.7": 0,
         "0.8": 0,
         "0.9": 0,
         "0.10": 0,
         "0.11": 0,
         "0.12": 0,
         "0.13": 0,
         "0.14": 0,
         "0.15": 0,
         "0.16": 0,
         "0.17": 0,
         "0.18": 0,
         "0.19": 0,
         "0.20": 0,
         "0.21": 0,
         "0.22": 0,
         "0.23": 0,
         "0.24": 0,
         "0.25": 0,
         "0.26": 0,
         "0.27": 0,
         "0.28": 0,
         "0.29": 0,
         "0.30": 0,
         "0.31": 0,
         "0.32": 0,
         "0.33": 0,
         "0.34": 0,
         "0.35": 0,
         "0.36": 0,
         "0.37": 0,
         "0.38": 0,
         "0.39": 0,
         "0.40": 0,
         "0.41": 0,
         "0.42": 0,
         "0.43": 0,
         "0.44": 0,
         "0.45": 0,
         "0.46": 0,
         "0.47": 0,
         "0.48": 0,
         "0.49": 0,
         "0.50": 0,
         "0.51": 0,
         "0.52": 0,
         "0.53": 0,
         "0.54": 0,
         "0.55": 0,
         "0.56": 0,
         "0.57": 0,
         "0.58": 0,
         "0.59": 0,
         "0.60": 0,
         "0.61": 0,
         "0.62": 0,
         "0.63": 0,
         "0.64": 0,
         "0.65": 0,
         "0.66": 0,
         "0.67": 0,
         "0.68": 0,
         "0.69": 0,
         "0.70": 0,
         "0.71": 0,
         "0.72": 0,
         "0.73": 0,
         "0.74": 0,
         "0.75": 0,
         "0.76": 0,
         "0.77": 0,
         "0.78": 0,
         "0.79": 0,
         "0.80": 0,
         "0.81": 0,
         "0.82": 0,
         "0.83": 0,
         "0.84": 0,
         "0.85": 0,
         "0.86": 0,
         "0.87": 0,
         "0.88": 0,
         "0.89": 0,
         "0.90": 0,
         "0.91": 0,
         "0.92": 0,
         "0.93": 0,
         "0.94": 0,
         "0.95": 0,
         "0.96": 0,
         "0.97": 0,
         "0.98": 0,
         "0.99": 0,
         "0.100": 0,
         "0.101": 0,
         "0.102": 0,
         "0.103": 0,
         "0.104": 0,
         "0.105": 0,
         "0.106": 0,
         "0.107": 0,
         "0.108": 0,
         "0.109": 0,
         "0.110": 0,
         "0.111": 0,
         "0.112": 0,
         "0.113": 0,
         "0.114": 0,
         "0.115": 0,
         "0.116": 0,
         "0.117": 0,
         "0.118": 0,
         "0.119": 0,
         "0.120": 0,
         "0.121": 0,
         "0.122": 0,
         "0.123": 0,
         "0.124": 0,
         "0.125": 0,
         "0.126": 0,
         "0.127": 0,
         "0.128": 0,
         "0.129": 0,
         "0.130": 0,
         "0.131": 0,
         "0.132": 0,
         "0.133": 0,
         "0.134": 0,
         "0.135": 0,
         "0.136": 0,
         "0.137": 0,
         "0.138": 0,
         "0.139": 0,
         "0.140": 0,
         "0.141": 0,
         "0.142": 0,
         "0.143": 0,
         "0.144": 0,
         "0.145": 0,
         "0.146": 0,
         "0.147": 0,
         "0.148": 0,
         "0.149": 0,
         "0.150": 0,
         "0.151": 0,
         "0.152": 0,
         "0.153": 0,
         "0.154": 0,
         "0.155": 0.011765,
         "0.156": 0.039216,
         "0.157": 0.039216,
         "0.158": 0.05098,
         "0.159": 0.0078431,
         "0.160": 0,
         "0.161": 0,
         "0.162": 0,
         "0.163": 0,
         "0.164": 0,
         "0.165": 0,
         "0.166": 0,
         "0.167": 0,
         "0.168": 0,
         "0.169": 0,
         "0.170": 0,
         "0.171": 0,
         "0.172": 0,
         "0.173": 0,
         "0.174": 0,
         "0.32941": 0,
         "0.87059": 0,
         "0.26275": 0,
         "0.175": 0,
         "0.176": 0,
         "0.177": 0,
         "0.178": 0,
         "0.179": 0.12941,
         "0.180": 0.65098,
         "0.181": 0.8902,
         "0.182": 0.89412,
         "0.183": 0.99216,
         "0.184": 0.45098,
         "0.185": 0.011765,
         "0.186": 0,
         "0.187": 0,
         "0.188": 0,
         "0.189": 0,
         "0.190": 0,
         "0.191": 0,
         "0.192": 0,
         "0.193": 0,
         "0.194": 0,
         "0.195": 0,
         "0.196": 0,
         "0.197": 0,
         "0.198": 0,
         "0.199": 0,
         "0.72549": 0,
         "0.99608": 0,
         "0.44706": 0,
         "0.200": 0,
         "0.201": 0,
         "0.202": 0.37255,
         "0.203": 0.41961,
         "0.204": 0.85098,
         "0.205": 0.99216,
         "0.206": 0.99216,
         "0.207": 0.99216,
         "0.208": 0.99216,
         "0.209": 0.99216,
         "0.210": 0.65098,
         "0.211": 0.027451,
         "0.212": 0,
         "0.213": 0,
         "0.214": 0,
         "0.215": 0,
         "0.216": 0,
         "0.217": 0,
         "0.218": 0,
         "0.219": 0,
         "0.220": 0,
         "0.221": 0,
         "0.222": 0,
         "0.223": 0,
         "0.224": 0,
         "0.62353": 0,
         "0.99608.1": 0,
         "0.28235": 0,
         "0.225": 0,
         "0.226": 0.41176,
         "0.227": 0.99608,
         "0.228": 0.99216,
         "0.229": 0.99216,
         "0.230": 0.99216,
         "0.231": 0.99216,
         "0.232": 0.99216,
         "0.233": 0.99216,
         "0.234": 0.99216,
         "0.235": 0.99216,
         "0.236": 0.13725,
         "0.237": 0,
         "0.238": 0,
         "0.239": 0,
         "0.240": 0,
         "0.241": 0,
         "0.242": 0,
         "0.243": 0,
         "0.244": 0,
         "0.245": 0,
         "0.246": 0,
         "0.247": 0,
         "0.248": 0,
         "0.249": 0.17255,
         "0.59216": 0.058824,
         "0.99608.2": 0,
         "0.44706.1": 0,
         "0.250": 0.3098,
         "0.251": 0.98039,
         "0.252": 0.99608,
         "0.253": 0.99216,
         "0.254": 0.99216,
         "0.255": 0.94902,
         "0.256": 0.81176,
         "0.257": 0.87843,
         "0.258": 0.99216,
         "0.259": 0.99216,
         "0.260": 0.99216,
         "0.261": 0.51765,
         "0.262": 0,
         "0.263": 0,
         "0.264": 0,
         "0.265": 0,
         "0.266": 0,
         "0.267": 0,
         "0.268": 0,
         "0.269": 0,
         "0.270": 0,
         "0.271": 0,
         "0.272": 0,
         "0.273": 0,
         "0.274": 0.71373,
         "0.23529": 0.23529,
         "0.99608.3": 0,
         "0.63922": 0.29412,
         "0.275": 0.85882,
         "0.276": 0.99216,
         "0.277": 0.99608,
         "0.278": 0.99216,
         "0.279": 0.51765,
         "0.280": 0.19216,
         "0.281": 0.058824,
         "0.282": 0.34118,
         "0.283": 0.90588,
         "0.284": 0.99216,
         "0.285": 0.99216,
         "0.286": 0.88235,
         "0.287": 0,
         "0.288": 0,
         "0.23922": 0,
         "0.47451": 0,
         "0.47451.1": 0,
         "0.289": 0,
         "0.290": 0,
         "0.291": 0,
         "0.292": 0,
         "0.293": 0,
         "0.294": 0,
         "0.295": 0.15686,
         "0.296": 0.94118,
         "0.14118": 0.23529,
         "0.9451": 0.27451,
         "0.8902": 0.81176,
         "0.066667": 0.99216,
         "0.297": 0.99216,
         "0.298": 0.99608,
         "0.299": 0.8,
         "0.300": 0.25098,
         "0.301": 0.066667,
         "0.302": 0.67451,
         "0.303": 0.94902,
         "0.304": 0.99216,
         "0.305": 0.99216,
         "0.306": 0.99216,
         "0.307": 0.99216,
         "0.12157": 0,
         "0.52157": 0,
         "0.94902": 0,
         "0.99608.4": 0,
         "0.99608.5": 0,
         "0.308": 0,
         "0.309": 0,
         "0.310": 0,
         "0.311": 0,
         "0.312": 0,
         "0.313": 0,
         "0.314": 0.37647,
         "0.315": 0.99216,
         "0.316": 0.65882,
         "0.77647": 0.96863,
         "0.99608.6": 0.99216,
         "0.25882": 0.99216,
         "0.317": 0.99216,
         "0.318": 0.36863,
         "0.319": 0.058824,
         "0.320": 0,
         "0.321": 0.19216,
         "0.322": 0.99216,
         "0.323": 0.99216,
         "0.324": 0.99216,
         "0.325": 0.99216,
         "0.011765": 0.99216,
         "0.14902": 0.99216,
         "0.87843": 0,
         "0.99608.7": 0,
         "0.99608.8": 0,
         "0.99608.9": 0,
         "0.81176": 0,
         "0.326": 0,
         "0.327": 0,
         "0.328": 0,
         "0.329": 0,
         "0.330": 0,
         "0.331": 0.062745,
         "0.332": 0.80784,
         "0.333": 0.99216,
         "0.334": 0.99216,
         "0.77647.1": 0.99216,
         "0.88235": 0.99216,
         "0.054902": 0.99216,
         "0.335": 0.13333,
         "0.336": 0,
         "0.337": 0,
         "0.338": 0,
         "0.339": 0.61961,
         "0.340": 0.99216,
         "0.341": 0.99216,
         "0.342": 0.99216,
         "0.07451": 0.99216,
         "0.79608": 0.99216,
         "0.99608.10": 0.99216,
         "0.99608.11": 0,
         "0.99608.12": 0,
         "0.99608.13": 0,
         "0.85882": 0,
         "0.070588": 0,
         "0.343": 0,
         "0.344": 0,
         "0.345": 0,
         "0.346": 0,
         "0.347": 0,
         "0.348": 0.37255,
         "0.349": 0.99216,
         "0.350": 0.99216,
         "0.351": 0.99216,
         "0.77647.2": 0.99216,
         "0.99608.14": 0.81176,
         "0.26275.1": 0.54118,
         "0.352": 0.0039216,
         "0.353": 0,
         "0.354": 0,
         "0.355": 0.070588,
         "0.356": 0.82353,
         "0.357": 0.99216,
         "0.358": 0.72157,
         "0.29412": 0.36471,
         "0.86667": 0.99216,
         "0.99608.15": 0.99216,
         "0.99608.16": 0.76471,
         "0.45098": 0,
         "0.20392": 0,
         "0.20392.1": 0,
         "0.15686": 0,
         "0.359": 0,
         "0.360": 0,
         "0.361": 0,
         "0.362": 0,
         "0.363": 0,
         "0.364": 0.05098,
         "0.365": 0.81961,
         "0.366": 0.99608,
         "0.367": 0.99608,
         "0.368": 0.99608,
         "0.77647.3": 0.96078,
         "0.99608.17": 0.36078,
         "0.26275.2": 0,
         "0.369": 0,
         "0.370": 0,
         "0.371": 0,
         "0.372": 0.16863,
         "0.373": 0.99608,
         "0.035294": 0.99608,
         "0.49412": 0.23529,
         "0.98431": 0.33725,
         "0.99608.18": 0.99608,
         "0.85882.1": 0.99608,
         "0.30196": 0.51765,
         "0.0039216": 0,
         "0.374": 0,
         "0.375": 0,
         "0.376": 0,
         "0.377": 0,
         "0.378": 0,
         "0.379": 0,
         "0.380": 0,
         "0.381": 0,
         "0.382": 0.37255,
         "0.383": 0.99216,
         "0.384": 0.99216,
         "0.385": 0.99216,
         "0.386": 0.78431,
         "0.77647.4": 0.082353,
         "0.99608.19": 0,
         "0.26275.3": 0,
         "0.387": 0,
         "0.388": 0,
         "0.389": 0,
         "0.23137": 0.61569,
         "0.52157.1": 0.99216,
         "0.80392": 0.96863,
         "0.99608.20": 0.21176,
         "0.94118": 0.33725,
         "0.65098": 0.99216,
         "0.13725": 0.99216,
         "0.390": 0.51765,
         "0.391": 0,
         "0.392": 0,
         "0.393": 0,
         "0.394": 0,
         "0.395": 0,
         "0.396": 0,
         "0.397": 0,
         "0.398": 0,
         "0.399": 0.031373,
         "0.400": 0.83137,
         "0.401": 0.99216,
         "0.402": 0.99216,
         "0.403": 0.77647,
         "0.404": 0.090196,
         "0.77647.5": 0,
         "0.98039": 0,
         "0.23137.1": 0,
         "0.405": 0,
         "0.086275": 0,
         "0.50588": 0.082353,
         "0.97647": 0.67059,
         "0.99608.21": 0.99216,
         "0.97255": 0.78824,
         "0.71373": 0.035294,
         "0.22353": 0.33725,
         "0.406": 0.99216,
         "0.407": 0.99216,
         "0.408": 0.51765,
         "0.409": 0,
         "0.410": 0,
         "_deepnote_index_column": 9998
        }
       ]
      },
      "text/plain": "      0  0.1  0.2  0.3  0.4  0.5  0.6  0.7  0.8  0.9  ...  0.657  0.658  \\\n0     0    0    0    0    0    0    0    0    0  0.0  ...    0.0    0.0   \n1     0    0    0    0    0    0    0    0    0  0.0  ...    0.0    0.0   \n2     0    0    0    0    0    0    0    0    0  0.0  ...    0.0    0.0   \n3     0    0    0    0    0    0    0    0    0  0.0  ...    0.0    0.0   \n4     0    0    0    0    0    0    0    0    0  0.0  ...    0.0    0.0   \n...  ..  ...  ...  ...  ...  ...  ...  ...  ...  ...  ...    ...    ...   \n9994  0    0    0    0    0    0    0    0    0  0.0  ...    0.0    0.0   \n9995  0    0    0    0    0    0    0    0    0  0.0  ...    0.0    0.0   \n9996  0    0    0    0    0    0    0    0    0  0.0  ...    0.0    0.0   \n9997  0    0    0    0    0    0    0    0    0  0.0  ...    0.0    0.0   \n9998  0    0    0    0    0    0    0    0    0  0.0  ...    0.0    0.0   \n\n      0.659  0.660  0.661  0.662  0.663  0.664  0.665  0.666  \n0       0.0      0      0      0      0      0      0      0  \n1       0.0      0      0      0      0      0      0      0  \n2       0.0      0      0      0      0      0      0      0  \n3       0.0      0      0      0      0      0      0      0  \n4       0.0      0      0      0      0      0      0      0  \n...     ...    ...    ...    ...    ...    ...    ...    ...  \n9994    0.0      0      0      0      0      0      0      0  \n9995    0.0      0      0      0      0      0      0      0  \n9996    0.0      0      0      0      0      0      0      0  \n9997    0.0      0      0      0      0      0      0      0  \n9998    0.0      0      0      0      0      0      0      0  \n\n[9999 rows x 783 columns]",
      "text/html": "<div>\n<style scoped>\n    .dataframe tbody tr th:only-of-type {\n        vertical-align: middle;\n    }\n\n    .dataframe tbody tr th {\n        vertical-align: top;\n    }\n\n    .dataframe thead th {\n        text-align: right;\n    }\n</style>\n<table border=\"1\" class=\"dataframe\">\n  <thead>\n    <tr style=\"text-align: right;\">\n      <th></th>\n      <th>0</th>\n      <th>0.1</th>\n      <th>0.2</th>\n      <th>0.3</th>\n      <th>0.4</th>\n      <th>0.5</th>\n      <th>0.6</th>\n      <th>0.7</th>\n      <th>0.8</th>\n      <th>0.9</th>\n      <th>...</th>\n      <th>0.657</th>\n      <th>0.658</th>\n      <th>0.659</th>\n      <th>0.660</th>\n      <th>0.661</th>\n      <th>0.662</th>\n      <th>0.663</th>\n      <th>0.664</th>\n      <th>0.665</th>\n      <th>0.666</th>\n    </tr>\n  </thead>\n  <tbody>\n    <tr>\n      <th>0</th>\n      <td>0</td>\n      <td>0</td>\n      <td>0</td>\n      <td>0</td>\n      <td>0</td>\n      <td>0</td>\n      <td>0</td>\n      <td>0</td>\n      <td>0</td>\n      <td>0.0</td>\n      <td>...</td>\n      <td>0.0</td>\n      <td>0.0</td>\n      <td>0.0</td>\n      <td>0</td>\n      <td>0</td>\n      <td>0</td>\n      <td>0</td>\n      <td>0</td>\n      <td>0</td>\n      <td>0</td>\n    </tr>\n    <tr>\n      <th>1</th>\n      <td>0</td>\n      <td>0</td>\n      <td>0</td>\n      <td>0</td>\n      <td>0</td>\n      <td>0</td>\n      <td>0</td>\n      <td>0</td>\n      <td>0</td>\n      <td>0.0</td>\n      <td>...</td>\n      <td>0.0</td>\n      <td>0.0</td>\n      <td>0.0</td>\n      <td>0</td>\n      <td>0</td>\n      <td>0</td>\n      <td>0</td>\n      <td>0</td>\n      <td>0</td>\n      <td>0</td>\n    </tr>\n    <tr>\n      <th>2</th>\n      <td>0</td>\n      <td>0</td>\n      <td>0</td>\n      <td>0</td>\n      <td>0</td>\n      <td>0</td>\n      <td>0</td>\n      <td>0</td>\n      <td>0</td>\n      <td>0.0</td>\n      <td>...</td>\n      <td>0.0</td>\n      <td>0.0</td>\n      <td>0.0</td>\n      <td>0</td>\n      <td>0</td>\n      <td>0</td>\n      <td>0</td>\n      <td>0</td>\n      <td>0</td>\n      <td>0</td>\n    </tr>\n    <tr>\n      <th>3</th>\n      <td>0</td>\n      <td>0</td>\n      <td>0</td>\n      <td>0</td>\n      <td>0</td>\n      <td>0</td>\n      <td>0</td>\n      <td>0</td>\n      <td>0</td>\n      <td>0.0</td>\n      <td>...</td>\n      <td>0.0</td>\n      <td>0.0</td>\n      <td>0.0</td>\n      <td>0</td>\n      <td>0</td>\n      <td>0</td>\n      <td>0</td>\n      <td>0</td>\n      <td>0</td>\n      <td>0</td>\n    </tr>\n    <tr>\n      <th>4</th>\n      <td>0</td>\n      <td>0</td>\n      <td>0</td>\n      <td>0</td>\n      <td>0</td>\n      <td>0</td>\n      <td>0</td>\n      <td>0</td>\n      <td>0</td>\n      <td>0.0</td>\n      <td>...</td>\n      <td>0.0</td>\n      <td>0.0</td>\n      <td>0.0</td>\n      <td>0</td>\n      <td>0</td>\n      <td>0</td>\n      <td>0</td>\n      <td>0</td>\n      <td>0</td>\n      <td>0</td>\n    </tr>\n    <tr>\n      <th>...</th>\n      <td>...</td>\n      <td>...</td>\n      <td>...</td>\n      <td>...</td>\n      <td>...</td>\n      <td>...</td>\n      <td>...</td>\n      <td>...</td>\n      <td>...</td>\n      <td>...</td>\n      <td>...</td>\n      <td>...</td>\n      <td>...</td>\n      <td>...</td>\n      <td>...</td>\n      <td>...</td>\n      <td>...</td>\n      <td>...</td>\n      <td>...</td>\n      <td>...</td>\n      <td>...</td>\n    </tr>\n    <tr>\n      <th>9994</th>\n      <td>0</td>\n      <td>0</td>\n      <td>0</td>\n      <td>0</td>\n      <td>0</td>\n      <td>0</td>\n      <td>0</td>\n      <td>0</td>\n      <td>0</td>\n      <td>0.0</td>\n      <td>...</td>\n      <td>0.0</td>\n      <td>0.0</td>\n      <td>0.0</td>\n      <td>0</td>\n      <td>0</td>\n      <td>0</td>\n      <td>0</td>\n      <td>0</td>\n      <td>0</td>\n      <td>0</td>\n    </tr>\n    <tr>\n      <th>9995</th>\n      <td>0</td>\n      <td>0</td>\n      <td>0</td>\n      <td>0</td>\n      <td>0</td>\n      <td>0</td>\n      <td>0</td>\n      <td>0</td>\n      <td>0</td>\n      <td>0.0</td>\n      <td>...</td>\n      <td>0.0</td>\n      <td>0.0</td>\n      <td>0.0</td>\n      <td>0</td>\n      <td>0</td>\n      <td>0</td>\n      <td>0</td>\n      <td>0</td>\n      <td>0</td>\n      <td>0</td>\n    </tr>\n    <tr>\n      <th>9996</th>\n      <td>0</td>\n      <td>0</td>\n      <td>0</td>\n      <td>0</td>\n      <td>0</td>\n      <td>0</td>\n      <td>0</td>\n      <td>0</td>\n      <td>0</td>\n      <td>0.0</td>\n      <td>...</td>\n      <td>0.0</td>\n      <td>0.0</td>\n      <td>0.0</td>\n      <td>0</td>\n      <td>0</td>\n      <td>0</td>\n      <td>0</td>\n      <td>0</td>\n      <td>0</td>\n      <td>0</td>\n    </tr>\n    <tr>\n      <th>9997</th>\n      <td>0</td>\n      <td>0</td>\n      <td>0</td>\n      <td>0</td>\n      <td>0</td>\n      <td>0</td>\n      <td>0</td>\n      <td>0</td>\n      <td>0</td>\n      <td>0.0</td>\n      <td>...</td>\n      <td>0.0</td>\n      <td>0.0</td>\n      <td>0.0</td>\n      <td>0</td>\n      <td>0</td>\n      <td>0</td>\n      <td>0</td>\n      <td>0</td>\n      <td>0</td>\n      <td>0</td>\n    </tr>\n    <tr>\n      <th>9998</th>\n      <td>0</td>\n      <td>0</td>\n      <td>0</td>\n      <td>0</td>\n      <td>0</td>\n      <td>0</td>\n      <td>0</td>\n      <td>0</td>\n      <td>0</td>\n      <td>0.0</td>\n      <td>...</td>\n      <td>0.0</td>\n      <td>0.0</td>\n      <td>0.0</td>\n      <td>0</td>\n      <td>0</td>\n      <td>0</td>\n      <td>0</td>\n      <td>0</td>\n      <td>0</td>\n      <td>0</td>\n    </tr>\n  </tbody>\n</table>\n<p>9999 rows × 783 columns</p>\n</div>"
     },
     "metadata": {}
    }
   ]
  },
  {
   "cell_type": "code",
   "metadata": {
    "tags": [],
    "cell_id": "00004-8d09489e-24ca-42c8-a4be-6b418a5a765d",
    "deepnote_to_be_reexecuted": false,
    "source_hash": "ce04b77e",
    "execution_start": 1628992904491,
    "execution_millis": 8,
    "deepnote_cell_type": "code"
   },
   "source": "y",
   "execution_count": null,
   "outputs": [
    {
     "output_type": "execute_result",
     "execution_count": 7,
     "data": {
      "text/plain": "0       2\n1       1\n2       0\n3       4\n4       1\n       ..\n9994    2\n9995    3\n9996    4\n9997    5\n9998    6\nName: 7, Length: 9999, dtype: int64"
     },
     "metadata": {}
    }
   ]
  },
  {
   "cell_type": "code",
   "metadata": {
    "tags": [],
    "cell_id": "00005-ac77ec32-562e-47d3-b31a-fbfa3e1b5ac4",
    "deepnote_to_be_reexecuted": false,
    "source_hash": "f8d7ef13",
    "execution_start": 1628992989380,
    "execution_millis": 37,
    "deepnote_cell_type": "code"
   },
   "source": "from sklearn.model_selection import train_test_split\nX_train,X_test,y_train,y_test = train_test_split(X,y)",
   "execution_count": null,
   "outputs": []
  },
  {
   "cell_type": "code",
   "metadata": {
    "tags": [],
    "cell_id": "00006-13ce1e2f-e15e-4346-9047-3a8bfa7bb1a8",
    "deepnote_to_be_reexecuted": false,
    "source_hash": "8f9c0945",
    "execution_start": 1628993141072,
    "execution_millis": 1554,
    "deepnote_cell_type": "code"
   },
   "source": "%time\nknn = KNeighborsClassifier(n_neighbors=5,n_jobs=-1)\nknn.fit(X_train,y_train)\nknn.score(X_test,y_test)",
   "execution_count": null,
   "outputs": [
    {
     "name": "stdout",
     "text": "CPU times: user 2 µs, sys: 0 ns, total: 2 µs\nWall time: 5.96 µs\n",
     "output_type": "stream"
    },
    {
     "output_type": "execute_result",
     "execution_count": 16,
     "data": {
      "text/plain": "0.9428"
     },
     "metadata": {}
    }
   ]
  },
  {
   "cell_type": "code",
   "metadata": {
    "tags": [],
    "cell_id": "00007-06c80eb9-d40c-4b06-bc33-807e5245fd9e",
    "deepnote_cell_type": "code"
   },
   "source": "",
   "execution_count": null,
   "outputs": []
  },
  {
   "cell_type": "markdown",
   "source": "<a style='text-decoration:none;line-height:16px;display:flex;color:#5B5B62;padding:10px;justify-content:end;' href='https://deepnote.com?utm_source=created-in-deepnote-cell&projectId=e91eb998-244f-4d4d-99b9-ff77222e7aa7' target=\"_blank\">\n<img alt='Created in deepnote.com' style='display:inline;max-height:16px;margin:0px;margin-right:7.5px;' src='data:image/svg+xml;base64,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' > </img>\nCreated in <span style='font-weight:600;margin-left:4px;'>Deepnote</span></a>",
   "metadata": {
    "tags": [],
    "created_in_deepnote_cell": true,
    "deepnote_cell_type": "markdown"
   }
  }
 ],
 "nbformat": 4,
 "nbformat_minor": 2,
 "metadata": {
  "orig_nbformat": 2,
  "deepnote": {
   "is_reactive": false
  },
  "deepnote_notebook_id": "88096a3e-c933-45df-9029-1b0e113a577b",
  "deepnote_execution_queue": []
 }
}